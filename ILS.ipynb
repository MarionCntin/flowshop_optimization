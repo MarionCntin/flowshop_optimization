{
 "cells": [
  {
   "cell_type": "markdown",
   "metadata": {},
   "source": [
    "# ITERATED LOCAL SEARCH"
   ]
  },
  {
   "cell_type": "code",
   "execution_count": 1,
   "metadata": {},
   "outputs": [],
   "source": [
    "# Library\n",
    "import random\n",
    "import job\n",
    "import ordonnancement\n",
    "import sommet\n",
    "import flowshop\n",
    "import time\n",
    "import copy\n",
    "import math"
   ]
  },
  {
   "cell_type": "markdown",
   "metadata": {},
   "source": [
    "## GenerateInitialSolution"
   ]
  },
  {
   "cell_type": "code",
   "execution_count": 2,
   "metadata": {},
   "outputs": [],
   "source": [
    "def GenerateInitialSolution():\n",
    "    X = ordonnancement.Ordonnancement(prob.nombre_machines)\n",
    "    X.ordonnancer_liste_job(prob.ordre_NEH()) \n",
    "    print('Initial solution : {} | Durée : {}'.format([x.numero for x in X.sequence], X.duree))\n",
    "    return X\n",
    "    "
   ]
  },
  {
   "cell_type": "markdown",
   "metadata": {},
   "source": [
    "## Perturbation"
   ]
  },
  {
   "cell_type": "code",
   "execution_count": 3,
   "metadata": {},
   "outputs": [],
   "source": [
    "def voisin_aleatoire(ordo):                \n",
    "    nb_jobs=len(ordo.sequence)\n",
    "    sequence=copy.copy(ordo.sequence)\n",
    "    k=random.randint(0, len(sequence)-1)\n",
    "    i=random.randint(0, len(sequence)-1)\n",
    "    while i==k:\n",
    "        i=random.randint(0, len(sequence)-1)\n",
    "    y1=sequence[k]\n",
    "    y2=sequence[i]\n",
    "    sequence[k]=y2\n",
    "    sequence[i]=y1\n",
    "    ordo2 = ordonnancement.Ordonnancement(ordo.nombre_machines)\n",
    "    ordo2.ordonnancer_liste_job(sequence)\n",
    "    return ordo2\n",
    "\n",
    "\n",
    "def pertubation(S, history):\n",
    "    strength = prob.nombre_machines # NOMBRE DE MACHINES \n",
    "    COUNT = 0 \n",
    "    while COUNT < strength : \n",
    "        S = voisin_aleatoire(S)\n",
    "        COUNT += 1\n",
    "        \n",
    "    if S in history :\n",
    "        pertubation(S, history)\n",
    "    \n",
    "    return S"
   ]
  },
  {
   "cell_type": "markdown",
   "metadata": {},
   "source": [
    "## LocalSearch"
   ]
  },
  {
   "cell_type": "code",
   "execution_count": 4,
   "metadata": {},
   "outputs": [],
   "source": [
    "Iteration=25\n",
    "\n",
    "def voisin_aleatoire(ordo):                \n",
    "    nb_jobs=len(ordo.sequence)\n",
    "    sequence=copy.copy(ordo.sequence)\n",
    "    k=random.randint(0, len(sequence)-1)\n",
    "    i=random.randint(0, len(sequence)-1)\n",
    "    while i==k:\n",
    "        i=random.randint(0, len(sequence)-1)\n",
    "    y1=sequence[k]\n",
    "    y2=sequence[i]\n",
    "    sequence[k]=y2\n",
    "    sequence[i]=y1\n",
    "    ordo2 = ordonnancement.Ordonnancement(ordo.nombre_machines)\n",
    "    ordo2.ordonnancer_liste_job(sequence)\n",
    "    return ordo2\n",
    "\n",
    "\n",
    "\n",
    "def local_search_recuit_simule(S):\n",
    "    #Création d'une solution de départ\n",
    "    Sc= S\n",
    "    \n",
    "    #S_best constitue la meilleure solution trouvée\n",
    "    S_best=Sc\n",
    "    \n",
    "    T=1\n",
    "    Kb=1.3806*10**(-23)\n",
    "    alpha=0.99\n",
    "    #Initialisation de la liste des dernieres solutions trouvées\n",
    "    Last_visited=[Sc.sequence]\n",
    "    i=0\n",
    "    while i < Iteration :\n",
    "        S=voisin_aleatoire(Sc)\n",
    "        \n",
    "        if S.duree<Sc.duree:\n",
    "            Sc=S\n",
    "        else:\n",
    "            p=random.random()\n",
    "            if p<=math.exp((Sc.duree-S.duree)/(Kb*T)):\n",
    "                Sc=S\n",
    "        \n",
    "        if Sc.duree<S_best.duree:\n",
    "            S_best=Sc\n",
    "        T=alpha*T\n",
    "        i+=1\n",
    "    return S_best"
   ]
  },
  {
   "cell_type": "markdown",
   "metadata": {},
   "source": [
    "## ILS"
   ]
  },
  {
   "cell_type": "code",
   "execution_count": 5,
   "metadata": {},
   "outputs": [],
   "source": [
    "def ILS():\n",
    "    \n",
    "    # Initial solution\n",
    "    S0 = GenerateInitialSolution()\n",
    "    S_best = local_search_recuit_simule(S0)\n",
    "    history = [S_best]    # Local optimum\n",
    "    \n",
    "    \n",
    "    COUNT = 0\n",
    "    while COUNT < 10000 :\n",
    "        S = pertubation(S_best, history)\n",
    "        S_best_local = local_search_recuit_simule(S)\n",
    "        \n",
    "        if S_best_local.duree < S_best.duree :\n",
    "            S_best = S_best_local\n",
    "            print('New solution found : {} | Durée : {}'.format([x.numero for x in S_best.sequence], S_best.duree))\n",
    "            history.append(S_best)\n",
    "        \n",
    "        COUNT+=1\n",
    "        \n",
    "    return S_best\n",
    "    \n",
    "    "
   ]
  },
  {
   "cell_type": "markdown",
   "metadata": {},
   "source": [
    "# Tests"
   ]
  },
  {
   "cell_type": "code",
   "execution_count": 38,
   "metadata": {},
   "outputs": [
    {
     "name": "stdout",
     "output_type": "stream",
     "text": [
      "JEU 2 :\n",
      "Initial solution : [2, 7, 5, 3, 1, 0, 4, 6] | Durée : 705\n",
      "New solution found : [2, 5, 0, 3, 1, 7, 4, 6] | Durée : 704\n",
      "----- RESULTAT-----\n",
      "Temps de résolution : 6.369s\n",
      "durée : 704\n",
      "[2, 5, 0, 3, 1, 7, 4, 6]\n"
     ]
    }
   ],
   "source": [
    "print(\"JEU 2 :\")\n",
    "prob = flowshop.Flowshop()\n",
    "prob.definir_par_fichier('data/jeu2.txt')\n",
    "L = prob.liste_jobs\n",
    "m = prob.nombre_machines\n",
    "\n",
    "# Parameters\n",
    "time_limit = 1\n",
    "\n",
    "start_time = time.time()\n",
    "result= ILS()\n",
    "elapsed_time = time.time() - start_time\n",
    "print('----- RESULTAT-----')\n",
    "print('Temps de résolution : {}s'.format(round(elapsed_time,3)))\n",
    "print(\"durée :\", result.duree)\n",
    "print([ job.numero for job in result.sequence])"
   ]
  },
  {
   "cell_type": "code",
   "execution_count": 39,
   "metadata": {},
   "outputs": [
    {
     "name": "stdout",
     "output_type": "stream",
     "text": [
      "tai01 :\n",
      "Initial solution : [2, 16, 8, 7, 14, 13, 10, 15, 12, 18, 5, 3, 4, 17, 0, 1, 9, 6, 19, 11] | Durée : 1286\n",
      "----- RESULTAT-----\n",
      "Temps de résolution : 14.992s\n",
      "durée : 1286\n",
      "[2, 16, 8, 7, 14, 13, 10, 15, 12, 18, 5, 3, 4, 17, 0, 1, 9, 6, 19, 11]\n"
     ]
    }
   ],
   "source": [
    "print(\"tai01 :\")\n",
    "prob = flowshop.Flowshop()\n",
    "prob.definir_par_fichier('/Users/corentin/Desktop/Cours/2A/programmation_dynamique/projet/data/jeu_de_données_1/tai01.txt')\n",
    "L = prob.liste_jobs\n",
    "m = prob.nombre_machines\n",
    "\n",
    "\n",
    "start_time = time.time()\n",
    "result=ILS()\n",
    "elapsed_time = time.time() - start_time\n",
    "print('----- RESULTAT-----')\n",
    "print('Temps de résolution : {}s'.format(round(elapsed_time,3)))\n",
    "print(\"durée :\", result.duree)\n",
    "print([ job.numero for job in result.sequence])"
   ]
  },
  {
   "cell_type": "code",
   "execution_count": 6,
   "metadata": {},
   "outputs": [
    {
     "name": "stdout",
     "output_type": "stream",
     "text": [
      "tai52 :\n",
      "Initial solution : [32, 19, 31, 42, 37, 48, 36, 44, 49, 13, 35, 29, 38, 0, 18, 16, 10, 40, 41, 30, 25, 14, 5, 43, 34, 22, 45, 28, 4, 24, 39, 46, 17, 9, 21, 11, 12, 33, 6, 47, 1, 27, 3, 15, 7, 20, 2, 23, 26, 8] | Durée : 3921\n"
     ]
    },
    {
     "ename": "KeyboardInterrupt",
     "evalue": "",
     "output_type": "error",
     "traceback": [
      "\u001b[0;31m---------------------------------------------------------------------------\u001b[0m",
      "\u001b[0;31mKeyboardInterrupt\u001b[0m                         Traceback (most recent call last)",
      "\u001b[0;32m<ipython-input-6-54eeec0a347c>\u001b[0m in \u001b[0;36m<module>\u001b[0;34m\u001b[0m\n\u001b[1;32m      7\u001b[0m \u001b[0;34m\u001b[0m\u001b[0m\n\u001b[1;32m      8\u001b[0m \u001b[0mstart_time\u001b[0m \u001b[0;34m=\u001b[0m \u001b[0mtime\u001b[0m\u001b[0;34m.\u001b[0m\u001b[0mtime\u001b[0m\u001b[0;34m(\u001b[0m\u001b[0;34m)\u001b[0m\u001b[0;34m\u001b[0m\u001b[0;34m\u001b[0m\u001b[0m\n\u001b[0;32m----> 9\u001b[0;31m \u001b[0mresult\u001b[0m\u001b[0;34m=\u001b[0m\u001b[0mILS\u001b[0m\u001b[0;34m(\u001b[0m\u001b[0;34m)\u001b[0m\u001b[0;34m\u001b[0m\u001b[0;34m\u001b[0m\u001b[0m\n\u001b[0m\u001b[1;32m     10\u001b[0m \u001b[0melapsed_time\u001b[0m \u001b[0;34m=\u001b[0m \u001b[0mtime\u001b[0m\u001b[0;34m.\u001b[0m\u001b[0mtime\u001b[0m\u001b[0;34m(\u001b[0m\u001b[0;34m)\u001b[0m \u001b[0;34m-\u001b[0m \u001b[0mstart_time\u001b[0m\u001b[0;34m\u001b[0m\u001b[0;34m\u001b[0m\u001b[0m\n\u001b[1;32m     11\u001b[0m \u001b[0mprint\u001b[0m\u001b[0;34m(\u001b[0m\u001b[0;34m'----- RESULTAT-----'\u001b[0m\u001b[0;34m)\u001b[0m\u001b[0;34m\u001b[0m\u001b[0;34m\u001b[0m\u001b[0m\n",
      "\u001b[0;32m<ipython-input-5-aed9c12eebfd>\u001b[0m in \u001b[0;36mILS\u001b[0;34m()\u001b[0m\n\u001b[1;32m     10\u001b[0m     \u001b[0;32mwhile\u001b[0m \u001b[0mCOUNT\u001b[0m \u001b[0;34m<\u001b[0m \u001b[0;36m10000\u001b[0m \u001b[0;34m:\u001b[0m\u001b[0;34m\u001b[0m\u001b[0;34m\u001b[0m\u001b[0m\n\u001b[1;32m     11\u001b[0m         \u001b[0mS\u001b[0m \u001b[0;34m=\u001b[0m \u001b[0mpertubation\u001b[0m\u001b[0;34m(\u001b[0m\u001b[0mS_best\u001b[0m\u001b[0;34m,\u001b[0m \u001b[0mhistory\u001b[0m\u001b[0;34m)\u001b[0m\u001b[0;34m\u001b[0m\u001b[0;34m\u001b[0m\u001b[0m\n\u001b[0;32m---> 12\u001b[0;31m         \u001b[0mS_best_local\u001b[0m \u001b[0;34m=\u001b[0m \u001b[0mlocal_search_recuit_simule\u001b[0m\u001b[0;34m(\u001b[0m\u001b[0mS\u001b[0m\u001b[0;34m)\u001b[0m\u001b[0;34m\u001b[0m\u001b[0;34m\u001b[0m\u001b[0m\n\u001b[0m\u001b[1;32m     13\u001b[0m \u001b[0;34m\u001b[0m\u001b[0m\n\u001b[1;32m     14\u001b[0m         \u001b[0;32mif\u001b[0m \u001b[0mS_best_local\u001b[0m\u001b[0;34m.\u001b[0m\u001b[0mduree\u001b[0m \u001b[0;34m<\u001b[0m \u001b[0mS_best\u001b[0m\u001b[0;34m.\u001b[0m\u001b[0mduree\u001b[0m \u001b[0;34m:\u001b[0m\u001b[0;34m\u001b[0m\u001b[0;34m\u001b[0m\u001b[0m\n",
      "\u001b[0;32m<ipython-input-4-36d089f8d67d>\u001b[0m in \u001b[0;36mlocal_search_recuit_simule\u001b[0;34m(S)\u001b[0m\n\u001b[1;32m     32\u001b[0m     \u001b[0mi\u001b[0m\u001b[0;34m=\u001b[0m\u001b[0;36m0\u001b[0m\u001b[0;34m\u001b[0m\u001b[0;34m\u001b[0m\u001b[0m\n\u001b[1;32m     33\u001b[0m     \u001b[0;32mwhile\u001b[0m \u001b[0mi\u001b[0m \u001b[0;34m<\u001b[0m \u001b[0mIteration\u001b[0m \u001b[0;34m:\u001b[0m\u001b[0;34m\u001b[0m\u001b[0;34m\u001b[0m\u001b[0m\n\u001b[0;32m---> 34\u001b[0;31m         \u001b[0mS\u001b[0m\u001b[0;34m=\u001b[0m\u001b[0mvoisin_aleatoire\u001b[0m\u001b[0;34m(\u001b[0m\u001b[0mSc\u001b[0m\u001b[0;34m)\u001b[0m\u001b[0;34m\u001b[0m\u001b[0;34m\u001b[0m\u001b[0m\n\u001b[0m\u001b[1;32m     35\u001b[0m \u001b[0;34m\u001b[0m\u001b[0m\n\u001b[1;32m     36\u001b[0m         \u001b[0;32mif\u001b[0m \u001b[0mS\u001b[0m\u001b[0;34m.\u001b[0m\u001b[0mduree\u001b[0m\u001b[0;34m<\u001b[0m\u001b[0mSc\u001b[0m\u001b[0;34m.\u001b[0m\u001b[0mduree\u001b[0m\u001b[0;34m:\u001b[0m\u001b[0;34m\u001b[0m\u001b[0;34m\u001b[0m\u001b[0m\n",
      "\u001b[0;32m<ipython-input-4-36d089f8d67d>\u001b[0m in \u001b[0;36mvoisin_aleatoire\u001b[0;34m(ordo)\u001b[0m\n\u001b[1;32m     13\u001b[0m     \u001b[0msequence\u001b[0m\u001b[0;34m[\u001b[0m\u001b[0mi\u001b[0m\u001b[0;34m]\u001b[0m\u001b[0;34m=\u001b[0m\u001b[0my1\u001b[0m\u001b[0;34m\u001b[0m\u001b[0;34m\u001b[0m\u001b[0m\n\u001b[1;32m     14\u001b[0m     \u001b[0mordo2\u001b[0m \u001b[0;34m=\u001b[0m \u001b[0mordonnancement\u001b[0m\u001b[0;34m.\u001b[0m\u001b[0mOrdonnancement\u001b[0m\u001b[0;34m(\u001b[0m\u001b[0mordo\u001b[0m\u001b[0;34m.\u001b[0m\u001b[0mnombre_machines\u001b[0m\u001b[0;34m)\u001b[0m\u001b[0;34m\u001b[0m\u001b[0;34m\u001b[0m\u001b[0m\n\u001b[0;32m---> 15\u001b[0;31m     \u001b[0mordo2\u001b[0m\u001b[0;34m.\u001b[0m\u001b[0mordonnancer_liste_job\u001b[0m\u001b[0;34m(\u001b[0m\u001b[0msequence\u001b[0m\u001b[0;34m)\u001b[0m\u001b[0;34m\u001b[0m\u001b[0;34m\u001b[0m\u001b[0m\n\u001b[0m\u001b[1;32m     16\u001b[0m     \u001b[0;32mreturn\u001b[0m \u001b[0mordo2\u001b[0m\u001b[0;34m\u001b[0m\u001b[0;34m\u001b[0m\u001b[0m\n\u001b[1;32m     17\u001b[0m \u001b[0;34m\u001b[0m\u001b[0m\n",
      "\u001b[0;32m~/Desktop/Cours/2A/programmation_dynamique/projet/ordonnancement.py\u001b[0m in \u001b[0;36mordonnancer_liste_job\u001b[0;34m(self, liste_jobs)\u001b[0m\n\u001b[1;32m     80\u001b[0m     \u001b[0;32mdef\u001b[0m \u001b[0mordonnancer_liste_job\u001b[0m\u001b[0;34m(\u001b[0m\u001b[0mself\u001b[0m\u001b[0;34m,\u001b[0m \u001b[0mliste_jobs\u001b[0m\u001b[0;34m)\u001b[0m\u001b[0;34m:\u001b[0m\u001b[0;34m\u001b[0m\u001b[0;34m\u001b[0m\u001b[0m\n\u001b[1;32m     81\u001b[0m         \u001b[0;32mfor\u001b[0m \u001b[0mj\u001b[0m \u001b[0;32min\u001b[0m \u001b[0mliste_jobs\u001b[0m \u001b[0;34m:\u001b[0m\u001b[0;34m\u001b[0m\u001b[0;34m\u001b[0m\u001b[0m\n\u001b[0;32m---> 82\u001b[0;31m             \u001b[0mself\u001b[0m\u001b[0;34m.\u001b[0m\u001b[0mordonnancer_job\u001b[0m\u001b[0;34m(\u001b[0m\u001b[0mj\u001b[0m\u001b[0;34m)\u001b[0m\u001b[0;34m\u001b[0m\u001b[0;34m\u001b[0m\u001b[0m\n\u001b[0m\u001b[1;32m     83\u001b[0m         \u001b[0mself\u001b[0m\u001b[0;34m.\u001b[0m\u001b[0mduree\u001b[0m \u001b[0;34m=\u001b[0m \u001b[0mliste_jobs\u001b[0m\u001b[0;34m[\u001b[0m\u001b[0;34m-\u001b[0m\u001b[0;36m1\u001b[0m\u001b[0;34m]\u001b[0m\u001b[0;34m.\u001b[0m\u001b[0mdate_debut\u001b[0m\u001b[0;34m[\u001b[0m\u001b[0;34m-\u001b[0m\u001b[0;36m1\u001b[0m\u001b[0;34m]\u001b[0m \u001b[0;34m+\u001b[0m \u001b[0mliste_jobs\u001b[0m\u001b[0;34m[\u001b[0m\u001b[0;34m-\u001b[0m\u001b[0;36m1\u001b[0m\u001b[0;34m]\u001b[0m\u001b[0;34m.\u001b[0m\u001b[0mduree_operation\u001b[0m\u001b[0;34m[\u001b[0m\u001b[0;34m-\u001b[0m\u001b[0;36m1\u001b[0m\u001b[0;34m]\u001b[0m\u001b[0;34m\u001b[0m\u001b[0;34m\u001b[0m\u001b[0m\n\u001b[1;32m     84\u001b[0m \u001b[0;34m\u001b[0m\u001b[0m\n",
      "\u001b[0;32m~/Desktop/Cours/2A/programmation_dynamique/projet/ordonnancement.py\u001b[0m in \u001b[0;36mordonnancer_job\u001b[0;34m(self, job)\u001b[0m\n\u001b[1;32m     69\u001b[0m             \u001b[0;32mfor\u001b[0m \u001b[0mm\u001b[0m \u001b[0;32min\u001b[0m \u001b[0mrange\u001b[0m \u001b[0;34m(\u001b[0m\u001b[0;36m1\u001b[0m\u001b[0;34m,\u001b[0m\u001b[0mself\u001b[0m\u001b[0;34m.\u001b[0m\u001b[0mnombre_machines\u001b[0m\u001b[0;34m)\u001b[0m\u001b[0;34m:\u001b[0m\u001b[0;34m\u001b[0m\u001b[0;34m\u001b[0m\u001b[0m\n\u001b[1;32m     70\u001b[0m                 job.date_debut[m] = max(self.sequence[-2].date_debut[m] + self.sequence[-2].duree_operation[m],\n\u001b[0;32m---> 71\u001b[0;31m                               job.date_debut[m-1] + job.duree_operation[m-1])\n\u001b[0m\u001b[1;32m     72\u001b[0m \u001b[0;34m\u001b[0m\u001b[0m\n\u001b[1;32m     73\u001b[0m         \u001b[0;31m#job.duree = job.date_debut[-1] + job.duree_operation[-1]\u001b[0m\u001b[0;34m\u001b[0m\u001b[0;34m\u001b[0m\u001b[0;34m\u001b[0m\u001b[0m\n",
      "\u001b[0;31mKeyboardInterrupt\u001b[0m: "
     ]
    }
   ],
   "source": [
    "print(\"tai52 :\")\n",
    "prob = flowshop.Flowshop()\n",
    "prob.definir_par_fichier('/Users/corentin/Desktop/Cours/2A/programmation_dynamique/projet/data/jeu_de_données_2/tai52.txt')\n",
    "L = prob.liste_jobs\n",
    "m = prob.nombre_machines\n",
    "\n",
    "\n",
    "start_time = time.time()\n",
    "result=ILS()\n",
    "elapsed_time = time.time() - start_time\n",
    "print('----- RESULTAT-----')\n",
    "print('Temps de résolution : {}s'.format(round(elapsed_time,3)))\n",
    "print(\"durée :\", result.duree)\n",
    "print([ job.numero for job in result.sequence])"
   ]
  },
  {
   "cell_type": "code",
   "execution_count": 8,
   "metadata": {},
   "outputs": [
    {
     "name": "stdout",
     "output_type": "stream",
     "text": [
      "tai51 :\n",
      "Initial solution : [34, 42, 19, 49, 44, 30, 4, 9, 32, 25, 5, 7, 35, 41, 28, 40, 45, 46, 27, 48, 31, 0, 12, 15, 33, 11, 47, 1, 37, 6, 38, 21, 16, 39, 10, 22, 13, 36, 20, 23, 17, 18, 8, 14, 3, 29, 43, 26, 24, 2] | Durée : 4082\n",
      "----- RESULTAT-----\n",
      "Temps de résolution : 466.904s\n",
      "durée : 4082\n",
      "[34, 42, 19, 49, 44, 30, 4, 9, 32, 25, 5, 7, 35, 41, 28, 40, 45, 46, 27, 48, 31, 0, 12, 15, 33, 11, 47, 1, 37, 6, 38, 21, 16, 39, 10, 22, 13, 36, 20, 23, 17, 18, 8, 14, 3, 29, 43, 26, 24, 2]\n"
     ]
    }
   ],
   "source": [
    "print(\"tai51 :\")\n",
    "prob = flowshop.Flowshop()\n",
    "prob.definir_par_fichier('/Users/corentin/Desktop/Cours/2A/programmation_dynamique/projet/data/jeu_de_données_1/tai51.txt')\n",
    "L = prob.liste_jobs\n",
    "m = prob.nombre_machines\n",
    "\n",
    "\n",
    "start_time = time.time()\n",
    "result=ILS()\n",
    "elapsed_time = time.time() - start_time\n",
    "print('----- RESULTAT-----')\n",
    "print('Temps de résolution : {}s'.format(round(elapsed_time,3)))\n",
    "print(\"durée :\", result.duree)\n",
    "print([ job.numero for job in result.sequence])"
   ]
  },
  {
   "cell_type": "code",
   "execution_count": null,
   "metadata": {},
   "outputs": [],
   "source": []
  }
 ],
 "metadata": {
  "kernelspec": {
   "display_name": "Python 3",
   "language": "python",
   "name": "python3"
  },
  "language_info": {
   "codemirror_mode": {
    "name": "ipython",
    "version": 3
   },
   "file_extension": ".py",
   "mimetype": "text/x-python",
   "name": "python",
   "nbconvert_exporter": "python",
   "pygments_lexer": "ipython3",
   "version": "3.7.4"
  }
 },
 "nbformat": 4,
 "nbformat_minor": 2
}
