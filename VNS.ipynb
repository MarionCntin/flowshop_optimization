{
 "cells": [
  {
   "cell_type": "markdown",
   "metadata": {},
   "source": [
    "# Variable Neighborhood Search"
   ]
  },
  {
   "cell_type": "code",
   "execution_count": 1,
   "metadata": {},
   "outputs": [],
   "source": [
    "# Library\n",
    "import random\n",
    "import job\n",
    "import ordonnancement\n",
    "import sommet\n",
    "import flowshop\n",
    "import time\n",
    "import copy\n",
    "import math"
   ]
  },
  {
   "cell_type": "markdown",
   "metadata": {},
   "source": [
    "# Perturb"
   ]
  },
  {
   "cell_type": "code",
   "execution_count": 2,
   "metadata": {},
   "outputs": [],
   "source": [
    "def voisin_aleatoire(ordo):                \n",
    "    nb_jobs=len(ordo.sequence)\n",
    "    sequence=copy.copy(ordo.sequence)\n",
    "    k=random.randint(0, len(sequence)-1)\n",
    "    i=random.randint(0, len(sequence)-1)\n",
    "    while i==k:\n",
    "        i=random.randint(0, len(sequence)-1)\n",
    "    y1=sequence[k]\n",
    "    y2=sequence[i]\n",
    "    sequence[k]=y2\n",
    "    sequence[i]=y1\n",
    "    ordo2 = ordonnancement.Ordonnancement(ordo.nombre_machines)\n",
    "    ordo2.ordonnancer_liste_job(sequence)\n",
    "    return ordo2\n",
    "\n",
    "\n",
    "def perturb( S_best , k ):\n",
    "    COUNT = 0\n",
    "    S = S_best\n",
    "    \n",
    "    while COUNT < k : \n",
    "        S = voisin_aleatoire(S)\n",
    "        COUNT += 1\n",
    "    return S \n",
    "        \n",
    "\n"
   ]
  },
  {
   "cell_type": "markdown",
   "metadata": {},
   "source": [
    "# Local Search "
   ]
  },
  {
   "cell_type": "markdown",
   "metadata": {},
   "source": [
    "## Tabu"
   ]
  },
  {
   "cell_type": "code",
   "execution_count": 3,
   "metadata": {},
   "outputs": [],
   "source": [
    "Iteration=15\n",
    "\n",
    "def meilleur_voisin(ordo, Last_visited):                \n",
    "    nb_jobs=len(ordo.sequence)\n",
    "    best_ordo=ordo\n",
    "    for k in range(nb_jobs-1):\n",
    "        for i in range(k+1,nb_jobs):\n",
    "            sequence=copy.copy(ordo.sequence)\n",
    "            y1=sequence[k]\n",
    "            y2=sequence[i]\n",
    "            sequence[k]=y2\n",
    "            sequence[i]=y1\n",
    "            ordo2 = ordonnancement.Ordonnancement(ordo.nombre_machines)\n",
    "            ordo2.ordonnancer_liste_job(sequence)\n",
    "            if best_ordo==ordo and (ordo2.sequence not in Last_visited):\n",
    "                best_ordo=ordo2\n",
    "            if ordo2.duree<best_ordo.duree and (ordo2.sequence not in Last_visited):\n",
    "                best_ordo=ordo2\n",
    "    return best_ordo\n",
    "\n",
    "\n",
    "def local_search_tabu(X_greedy, LIST_JOBS, NB_MACHINE):\n",
    "    #Création d'une solution de départ\n",
    "    Sc= X_greedy\n",
    "    \n",
    "    #S_best constitue la meilleure solution trouvée\n",
    "    S_best=Sc\n",
    "    \n",
    "    #Initialisation de la liste des dernieres solutions trouvées\n",
    "    Last_visited=[Sc.sequence]\n",
    "    i=0\n",
    "    while i < Iteration :\n",
    "        Sc=meilleur_voisin(Sc, Last_visited)\n",
    "        if Sc.duree<S_best.duree:\n",
    "            S_best=Sc\n",
    "        \n",
    "        Last_visited.append(Sc.sequence)\n",
    "        if len(Last_visited)>4:\n",
    "            Last_visited.pop(0)\n",
    "        i+=1\n",
    "    return S_best\n",
    "\n",
    "\n"
   ]
  },
  {
   "cell_type": "markdown",
   "metadata": {},
   "source": [
    "## Recuit simulé"
   ]
  },
  {
   "cell_type": "code",
   "execution_count": 4,
   "metadata": {},
   "outputs": [],
   "source": [
    "def local_search_recuit_simule(S):\n",
    "    #Création d'une solution de départ\n",
    "    Sc= S\n",
    "    \n",
    "    #S_best constitue la meilleure solution trouvée\n",
    "    S_best=Sc\n",
    "    \n",
    "    T=1\n",
    "    Kb=1.3806*10**(-23)\n",
    "    alpha=0.99\n",
    "    #Initialisation de la liste des dernieres solutions trouvées\n",
    "    Last_visited=[Sc.sequence]\n",
    "    i=0\n",
    "    while i < Iteration :\n",
    "        S=voisin_aleatoire(Sc)\n",
    "        \n",
    "        if S.duree<Sc.duree:\n",
    "            Sc=S\n",
    "        else:\n",
    "            p=random.random()\n",
    "            if p<=math.exp((Sc.duree-S.duree)/(Kb*T)):\n",
    "                Sc=S\n",
    "        \n",
    "        if Sc.duree<S_best.duree:\n",
    "            S_best=Sc\n",
    "        T=alpha*T\n",
    "        i+=1\n",
    "    return S_best"
   ]
  },
  {
   "cell_type": "markdown",
   "metadata": {},
   "source": [
    "# Basic VNS\n",
    "\n",
    "What is the criterion ?"
   ]
  },
  {
   "cell_type": "code",
   "execution_count": 5,
   "metadata": {},
   "outputs": [],
   "source": [
    "def Basic_VNS( LIST_JOBS, NB_MACHINE ):\n",
    "    \n",
    "    # Initialization\n",
    "    X = ordonnancement.Ordonnancement(NB_MACHINE)\n",
    "    X.ordonnancer_liste_job(prob.ordre_NEH()) \n",
    "    S_best = X\n",
    "    print('Initial solution : {} | Durée : {}'.format([x.numero for x in S_best.sequence], S_best.duree))\n",
    "    \n",
    "    k = 1\n",
    "    k_max = 10 # Nombre de jobs ? \n",
    "    COUNT = 0\n",
    "    \n",
    "    while COUNT < 1000: \n",
    "        S_perturb = perturb(S_best, k )\n",
    "        S = local_search_tabu(S_perturb , LIST_JOBS, NB_MACHINE) \n",
    "        #S = local_search_recuit_simule(S_perturb)\n",
    "        \n",
    "        if S.duree < S_best.duree : \n",
    "            S_best = S \n",
    "            print('New solution found : {} | Durée : {}'.format([x.numero for x in S_best.sequence], S_best.duree))\n",
    "            k = 1\n",
    "        else : \n",
    "            k+=1\n",
    "            if k>k_max : \n",
    "                    k=1\n",
    "        COUNT +=1\n",
    "    return S_best\n",
    "        \n",
    "    "
   ]
  },
  {
   "cell_type": "markdown",
   "metadata": {},
   "source": [
    "# Tests\n"
   ]
  },
  {
   "cell_type": "code",
   "execution_count": 6,
   "metadata": {},
   "outputs": [
    {
     "name": "stdout",
     "output_type": "stream",
     "text": [
      "JEU 1 :\n",
      "Initial solution : [3, 2, 0, 1] | Durée : 54\n",
      "----- RESULTAT-----\n",
      "Temps de résolution : 1.298s\n",
      "durée : 54\n",
      "[3, 2, 0, 1]\n"
     ]
    }
   ],
   "source": [
    "print(\"JEU 1 :\")\n",
    "prob = flowshop.Flowshop()\n",
    "prob.definir_par_fichier('data/jeu1.txt')\n",
    "L = prob.liste_jobs\n",
    "m = prob.nombre_machines\n",
    "\n",
    "\n",
    "start_time = time.time()\n",
    "result=Basic_VNS( L, m)\n",
    "elapsed_time = time.time() - start_time\n",
    "print('----- RESULTAT-----')\n",
    "print('Temps de résolution : {}s'.format(round(elapsed_time,3)))\n",
    "print(\"durée :\", result.duree)\n",
    "print([ job.numero for job in result.sequence])\n"
   ]
  },
  {
   "cell_type": "code",
   "execution_count": 105,
   "metadata": {},
   "outputs": [
    {
     "name": "stdout",
     "output_type": "stream",
     "text": [
      "JEU 2 :\n",
      "Initial solution : [2, 7, 5, 3, 1, 0, 4, 6] | Durée : 705\n",
      "New solution found : [2, 5, 0, 3, 1, 7, 4, 6] | Durée : 704\n",
      "----- RESULTAT-----\n",
      "Temps de résolution : 11.37s\n",
      "durée : 704\n",
      "[2, 5, 0, 3, 1, 7, 4, 6]\n"
     ]
    }
   ],
   "source": [
    "print(\"JEU 2 :\")\n",
    "prob = flowshop.Flowshop()\n",
    "prob.definir_par_fichier('data/jeu2.txt')\n",
    "L = prob.liste_jobs\n",
    "m = prob.nombre_machines\n",
    "\n",
    "# Parameters\n",
    "time_limit = 1\n",
    "\n",
    "start_time = time.time()\n",
    "result=Basic_VNS( L, m)\n",
    "elapsed_time = time.time() - start_time\n",
    "print('----- RESULTAT-----')\n",
    "print('Temps de résolution : {}s'.format(round(elapsed_time,3)))\n",
    "print(\"durée :\", result.duree)\n",
    "print([ job.numero for job in result.sequence])"
   ]
  },
  {
   "cell_type": "code",
   "execution_count": 106,
   "metadata": {},
   "outputs": [
    {
     "name": "stdout",
     "output_type": "stream",
     "text": [
      "tai01 :\n",
      "Initial solution : [2, 16, 8, 7, 14, 13, 10, 15, 12, 18, 5, 3, 4, 17, 0, 1, 9, 6, 19, 11] | Durée : 1286\n",
      "New solution found : [2, 14, 16, 7, 8, 13, 6, 10, 12, 15, 5, 4, 17, 18, 3, 1, 0, 9, 19, 11] | Durée : 1279\n",
      "New solution found : [8, 14, 16, 5, 2, 7, 6, 10, 12, 15, 13, 4, 17, 18, 3, 1, 0, 9, 19, 11] | Durée : 1278\n"
     ]
    },
    {
     "ename": "KeyboardInterrupt",
     "evalue": "",
     "output_type": "error",
     "traceback": [
      "\u001b[0;31m---------------------------------------------------------------------------\u001b[0m",
      "\u001b[0;31mKeyboardInterrupt\u001b[0m                         Traceback (most recent call last)",
      "\u001b[0;32m<ipython-input-106-4263c8e5483b>\u001b[0m in \u001b[0;36m<module>\u001b[0;34m\u001b[0m\n\u001b[1;32m      7\u001b[0m \u001b[0;34m\u001b[0m\u001b[0m\n\u001b[1;32m      8\u001b[0m \u001b[0mstart_time\u001b[0m \u001b[0;34m=\u001b[0m \u001b[0mtime\u001b[0m\u001b[0;34m.\u001b[0m\u001b[0mtime\u001b[0m\u001b[0;34m(\u001b[0m\u001b[0;34m)\u001b[0m\u001b[0;34m\u001b[0m\u001b[0;34m\u001b[0m\u001b[0m\n\u001b[0;32m----> 9\u001b[0;31m \u001b[0mresult\u001b[0m\u001b[0;34m=\u001b[0m\u001b[0mBasic_VNS\u001b[0m\u001b[0;34m(\u001b[0m \u001b[0mL\u001b[0m\u001b[0;34m,\u001b[0m \u001b[0mm\u001b[0m\u001b[0;34m)\u001b[0m\u001b[0;34m\u001b[0m\u001b[0;34m\u001b[0m\u001b[0m\n\u001b[0m\u001b[1;32m     10\u001b[0m \u001b[0melapsed_time\u001b[0m \u001b[0;34m=\u001b[0m \u001b[0mtime\u001b[0m\u001b[0;34m.\u001b[0m\u001b[0mtime\u001b[0m\u001b[0;34m(\u001b[0m\u001b[0;34m)\u001b[0m \u001b[0;34m-\u001b[0m \u001b[0mstart_time\u001b[0m\u001b[0;34m\u001b[0m\u001b[0;34m\u001b[0m\u001b[0m\n\u001b[1;32m     11\u001b[0m \u001b[0mprint\u001b[0m\u001b[0;34m(\u001b[0m\u001b[0;34m'----- RESULTAT-----'\u001b[0m\u001b[0;34m)\u001b[0m\u001b[0;34m\u001b[0m\u001b[0;34m\u001b[0m\u001b[0m\n",
      "\u001b[0;32m<ipython-input-103-f95efab7cfde>\u001b[0m in \u001b[0;36mBasic_VNS\u001b[0;34m(LIST_JOBS, NB_MACHINE)\u001b[0m\n\u001b[1;32m     13\u001b[0m     \u001b[0;32mwhile\u001b[0m \u001b[0mCOUNT\u001b[0m \u001b[0;34m<\u001b[0m \u001b[0;36m1000\u001b[0m\u001b[0;34m:\u001b[0m\u001b[0;34m\u001b[0m\u001b[0;34m\u001b[0m\u001b[0m\n\u001b[1;32m     14\u001b[0m         \u001b[0mS_perturb\u001b[0m \u001b[0;34m=\u001b[0m \u001b[0mperturb\u001b[0m\u001b[0;34m(\u001b[0m\u001b[0mS_best\u001b[0m\u001b[0;34m,\u001b[0m \u001b[0mk\u001b[0m \u001b[0;34m)\u001b[0m\u001b[0;34m\u001b[0m\u001b[0;34m\u001b[0m\u001b[0m\n\u001b[0;32m---> 15\u001b[0;31m         \u001b[0mS\u001b[0m \u001b[0;34m=\u001b[0m \u001b[0mlocal_search_tabu\u001b[0m\u001b[0;34m(\u001b[0m\u001b[0mS_perturb\u001b[0m \u001b[0;34m,\u001b[0m \u001b[0mLIST_JOBS\u001b[0m\u001b[0;34m,\u001b[0m \u001b[0mNB_MACHINE\u001b[0m\u001b[0;34m)\u001b[0m\u001b[0;34m\u001b[0m\u001b[0;34m\u001b[0m\u001b[0m\n\u001b[0m\u001b[1;32m     16\u001b[0m         \u001b[0;31m#S = local_search_recuit_simule(S_perturb)\u001b[0m\u001b[0;34m\u001b[0m\u001b[0;34m\u001b[0m\u001b[0;34m\u001b[0m\u001b[0m\n\u001b[1;32m     17\u001b[0m \u001b[0;34m\u001b[0m\u001b[0m\n",
      "\u001b[0;32m<ipython-input-63-85f956edeab9>\u001b[0m in \u001b[0;36mlocal_search_tabu\u001b[0;34m(X_greedy, LIST_JOBS, NB_MACHINE)\u001b[0m\n\u001b[1;32m     31\u001b[0m     \u001b[0mi\u001b[0m\u001b[0;34m=\u001b[0m\u001b[0;36m0\u001b[0m\u001b[0;34m\u001b[0m\u001b[0;34m\u001b[0m\u001b[0m\n\u001b[1;32m     32\u001b[0m     \u001b[0;32mwhile\u001b[0m \u001b[0mi\u001b[0m \u001b[0;34m<\u001b[0m \u001b[0mIteration\u001b[0m \u001b[0;34m:\u001b[0m\u001b[0;34m\u001b[0m\u001b[0;34m\u001b[0m\u001b[0m\n\u001b[0;32m---> 33\u001b[0;31m         \u001b[0mSc\u001b[0m\u001b[0;34m=\u001b[0m\u001b[0mmeilleur_voisin\u001b[0m\u001b[0;34m(\u001b[0m\u001b[0mSc\u001b[0m\u001b[0;34m,\u001b[0m \u001b[0mLast_visited\u001b[0m\u001b[0;34m)\u001b[0m\u001b[0;34m\u001b[0m\u001b[0;34m\u001b[0m\u001b[0m\n\u001b[0m\u001b[1;32m     34\u001b[0m         \u001b[0;32mif\u001b[0m \u001b[0mSc\u001b[0m\u001b[0;34m.\u001b[0m\u001b[0mduree\u001b[0m\u001b[0;34m<\u001b[0m\u001b[0mS_best\u001b[0m\u001b[0;34m.\u001b[0m\u001b[0mduree\u001b[0m\u001b[0;34m:\u001b[0m\u001b[0;34m\u001b[0m\u001b[0;34m\u001b[0m\u001b[0m\n\u001b[1;32m     35\u001b[0m             \u001b[0mS_best\u001b[0m\u001b[0;34m=\u001b[0m\u001b[0mSc\u001b[0m\u001b[0;34m\u001b[0m\u001b[0;34m\u001b[0m\u001b[0m\n",
      "\u001b[0;32m<ipython-input-63-85f956edeab9>\u001b[0m in \u001b[0;36mmeilleur_voisin\u001b[0;34m(ordo, Last_visited)\u001b[0m\n\u001b[1;32m     12\u001b[0m             \u001b[0msequence\u001b[0m\u001b[0;34m[\u001b[0m\u001b[0mi\u001b[0m\u001b[0;34m]\u001b[0m\u001b[0;34m=\u001b[0m\u001b[0my1\u001b[0m\u001b[0;34m\u001b[0m\u001b[0;34m\u001b[0m\u001b[0m\n\u001b[1;32m     13\u001b[0m             \u001b[0mordo2\u001b[0m \u001b[0;34m=\u001b[0m \u001b[0mordonnancement\u001b[0m\u001b[0;34m.\u001b[0m\u001b[0mOrdonnancement\u001b[0m\u001b[0;34m(\u001b[0m\u001b[0mordo\u001b[0m\u001b[0;34m.\u001b[0m\u001b[0mnombre_machines\u001b[0m\u001b[0;34m)\u001b[0m\u001b[0;34m\u001b[0m\u001b[0;34m\u001b[0m\u001b[0m\n\u001b[0;32m---> 14\u001b[0;31m             \u001b[0mordo2\u001b[0m\u001b[0;34m.\u001b[0m\u001b[0mordonnancer_liste_job\u001b[0m\u001b[0;34m(\u001b[0m\u001b[0msequence\u001b[0m\u001b[0;34m)\u001b[0m\u001b[0;34m\u001b[0m\u001b[0;34m\u001b[0m\u001b[0m\n\u001b[0m\u001b[1;32m     15\u001b[0m             \u001b[0;32mif\u001b[0m \u001b[0mbest_ordo\u001b[0m\u001b[0;34m==\u001b[0m\u001b[0mordo\u001b[0m \u001b[0;32mand\u001b[0m \u001b[0;34m(\u001b[0m\u001b[0mordo2\u001b[0m\u001b[0;34m.\u001b[0m\u001b[0msequence\u001b[0m \u001b[0;32mnot\u001b[0m \u001b[0;32min\u001b[0m \u001b[0mLast_visited\u001b[0m\u001b[0;34m)\u001b[0m\u001b[0;34m:\u001b[0m\u001b[0;34m\u001b[0m\u001b[0;34m\u001b[0m\u001b[0m\n\u001b[1;32m     16\u001b[0m                 \u001b[0mbest_ordo\u001b[0m\u001b[0;34m=\u001b[0m\u001b[0mordo2\u001b[0m\u001b[0;34m\u001b[0m\u001b[0;34m\u001b[0m\u001b[0m\n",
      "\u001b[0;32m~/Desktop/Cours/2A/programmation_dynamique/projet/ordonnancement.py\u001b[0m in \u001b[0;36mordonnancer_liste_job\u001b[0;34m(self, liste_jobs)\u001b[0m\n\u001b[1;32m     80\u001b[0m     \u001b[0;32mdef\u001b[0m \u001b[0mordonnancer_liste_job\u001b[0m\u001b[0;34m(\u001b[0m\u001b[0mself\u001b[0m\u001b[0;34m,\u001b[0m \u001b[0mliste_jobs\u001b[0m\u001b[0;34m)\u001b[0m\u001b[0;34m:\u001b[0m\u001b[0;34m\u001b[0m\u001b[0;34m\u001b[0m\u001b[0m\n\u001b[1;32m     81\u001b[0m         \u001b[0;32mfor\u001b[0m \u001b[0mj\u001b[0m \u001b[0;32min\u001b[0m \u001b[0mliste_jobs\u001b[0m \u001b[0;34m:\u001b[0m\u001b[0;34m\u001b[0m\u001b[0;34m\u001b[0m\u001b[0m\n\u001b[0;32m---> 82\u001b[0;31m             \u001b[0mself\u001b[0m\u001b[0;34m.\u001b[0m\u001b[0mordonnancer_job\u001b[0m\u001b[0;34m(\u001b[0m\u001b[0mj\u001b[0m\u001b[0;34m)\u001b[0m\u001b[0;34m\u001b[0m\u001b[0;34m\u001b[0m\u001b[0m\n\u001b[0m\u001b[1;32m     83\u001b[0m         \u001b[0mself\u001b[0m\u001b[0;34m.\u001b[0m\u001b[0mduree\u001b[0m \u001b[0;34m=\u001b[0m \u001b[0mliste_jobs\u001b[0m\u001b[0;34m[\u001b[0m\u001b[0;34m-\u001b[0m\u001b[0;36m1\u001b[0m\u001b[0;34m]\u001b[0m\u001b[0;34m.\u001b[0m\u001b[0mdate_debut\u001b[0m\u001b[0;34m[\u001b[0m\u001b[0;34m-\u001b[0m\u001b[0;36m1\u001b[0m\u001b[0;34m]\u001b[0m \u001b[0;34m+\u001b[0m \u001b[0mliste_jobs\u001b[0m\u001b[0;34m[\u001b[0m\u001b[0;34m-\u001b[0m\u001b[0;36m1\u001b[0m\u001b[0;34m]\u001b[0m\u001b[0;34m.\u001b[0m\u001b[0mduree_operation\u001b[0m\u001b[0;34m[\u001b[0m\u001b[0;34m-\u001b[0m\u001b[0;36m1\u001b[0m\u001b[0;34m]\u001b[0m\u001b[0;34m\u001b[0m\u001b[0;34m\u001b[0m\u001b[0m\n\u001b[1;32m     84\u001b[0m \u001b[0;34m\u001b[0m\u001b[0m\n",
      "\u001b[0;32m~/Desktop/Cours/2A/programmation_dynamique/projet/ordonnancement.py\u001b[0m in \u001b[0;36mordonnancer_job\u001b[0;34m(self, job)\u001b[0m\n\u001b[1;32m     69\u001b[0m             \u001b[0;32mfor\u001b[0m \u001b[0mm\u001b[0m \u001b[0;32min\u001b[0m \u001b[0mrange\u001b[0m \u001b[0;34m(\u001b[0m\u001b[0;36m1\u001b[0m\u001b[0;34m,\u001b[0m\u001b[0mself\u001b[0m\u001b[0;34m.\u001b[0m\u001b[0mnombre_machines\u001b[0m\u001b[0;34m)\u001b[0m\u001b[0;34m:\u001b[0m\u001b[0;34m\u001b[0m\u001b[0;34m\u001b[0m\u001b[0m\n\u001b[1;32m     70\u001b[0m                 job.date_debut[m] = max(self.sequence[-2].date_debut[m] + self.sequence[-2].duree_operation[m],\n\u001b[0;32m---> 71\u001b[0;31m                               job.date_debut[m-1] + job.duree_operation[m-1])\n\u001b[0m\u001b[1;32m     72\u001b[0m \u001b[0;34m\u001b[0m\u001b[0m\n\u001b[1;32m     73\u001b[0m         \u001b[0;31m#job.duree = job.date_debut[-1] + job.duree_operation[-1]\u001b[0m\u001b[0;34m\u001b[0m\u001b[0;34m\u001b[0m\u001b[0;34m\u001b[0m\u001b[0m\n",
      "\u001b[0;31mKeyboardInterrupt\u001b[0m: "
     ]
    }
   ],
   "source": [
    "print(\"tai01 :\")\n",
    "prob = flowshop.Flowshop()\n",
    "prob.definir_par_fichier('/Users/corentin/Desktop/Cours/2A/programmation_dynamique/projet/data/jeu_de_données_1/tai01.txt')\n",
    "L = prob.liste_jobs\n",
    "m = prob.nombre_machines\n",
    "\n",
    "\n",
    "start_time = time.time()\n",
    "result=Basic_VNS( L, m)\n",
    "elapsed_time = time.time() - start_time\n",
    "print('----- RESULTAT-----')\n",
    "print('Temps de résolution : {}s'.format(round(elapsed_time,3)))\n",
    "print(\"durée :\", result.duree)\n",
    "print([ job.numero for job in result.sequence])"
   ]
  },
  {
   "cell_type": "code",
   "execution_count": 107,
   "metadata": {},
   "outputs": [
    {
     "name": "stdout",
     "output_type": "stream",
     "text": [
      "tai11 :\n",
      "Initial solution : [17, 4, 1, 16, 2, 5, 11, 8, 14, 9, 19, 12, 7, 13, 18, 10, 3, 6, 0, 15] | Durée : 1680\n",
      "New solution found : [17, 4, 1, 11, 9, 5, 18, 16, 8, 2, 12, 14, 7, 13, 19, 6, 10, 3, 0, 15] | Durée : 1623\n",
      "New solution found : [17, 4, 8, 11, 9, 5, 18, 16, 1, 2, 13, 7, 19, 12, 14, 10, 3, 6, 0, 15] | Durée : 1612\n",
      "New solution found : [17, 4, 8, 11, 3, 12, 7, 19, 16, 14, 2, 1, 9, 5, 18, 10, 13, 6, 0, 15] | Durée : 1596\n",
      "New solution found : [17, 4, 8, 2, 16, 1, 14, 11, 3, 7, 19, 12, 9, 5, 18, 10, 13, 6, 0, 15] | Durée : 1594\n",
      "New solution found : [17, 4, 8, 11, 16, 3, 12, 1, 2, 7, 19, 14, 9, 5, 18, 10, 13, 6, 0, 15] | Durée : 1592\n",
      "New solution found : [17, 4, 8, 11, 16, 12, 2, 3, 1, 7, 19, 14, 9, 5, 18, 10, 13, 6, 0, 15] | Durée : 1591\n",
      "New solution found : [17, 4, 8, 11, 16, 1, 2, 3, 7, 19, 12, 14, 9, 5, 18, 10, 13, 6, 0, 15] | Durée : 1588\n",
      "New solution found : [17, 4, 8, 11, 16, 14, 2, 1, 9, 13, 3, 5, 18, 7, 19, 10, 12, 6, 0, 15] | Durée : 1586\n",
      "New solution found : [17, 4, 1, 11, 8, 9, 14, 16, 12, 2, 3, 5, 18, 7, 19, 10, 13, 6, 0, 15] | Durée : 1583\n"
     ]
    },
    {
     "ename": "KeyboardInterrupt",
     "evalue": "",
     "output_type": "error",
     "traceback": [
      "\u001b[0;31m---------------------------------------------------------------------------\u001b[0m",
      "\u001b[0;31mKeyboardInterrupt\u001b[0m                         Traceback (most recent call last)",
      "\u001b[0;32m<ipython-input-107-7a2c43ce5f26>\u001b[0m in \u001b[0;36m<module>\u001b[0;34m\u001b[0m\n\u001b[1;32m      7\u001b[0m \u001b[0;34m\u001b[0m\u001b[0m\n\u001b[1;32m      8\u001b[0m \u001b[0mstart_time\u001b[0m \u001b[0;34m=\u001b[0m \u001b[0mtime\u001b[0m\u001b[0;34m.\u001b[0m\u001b[0mtime\u001b[0m\u001b[0;34m(\u001b[0m\u001b[0;34m)\u001b[0m\u001b[0;34m\u001b[0m\u001b[0;34m\u001b[0m\u001b[0m\n\u001b[0;32m----> 9\u001b[0;31m \u001b[0mresult\u001b[0m\u001b[0;34m=\u001b[0m\u001b[0mBasic_VNS\u001b[0m\u001b[0;34m(\u001b[0m \u001b[0mL\u001b[0m\u001b[0;34m,\u001b[0m \u001b[0mm\u001b[0m\u001b[0;34m)\u001b[0m\u001b[0;34m\u001b[0m\u001b[0;34m\u001b[0m\u001b[0m\n\u001b[0m\u001b[1;32m     10\u001b[0m \u001b[0melapsed_time\u001b[0m \u001b[0;34m=\u001b[0m \u001b[0mtime\u001b[0m\u001b[0;34m.\u001b[0m\u001b[0mtime\u001b[0m\u001b[0;34m(\u001b[0m\u001b[0;34m)\u001b[0m \u001b[0;34m-\u001b[0m \u001b[0mstart_time\u001b[0m\u001b[0;34m\u001b[0m\u001b[0;34m\u001b[0m\u001b[0m\n\u001b[1;32m     11\u001b[0m \u001b[0mprint\u001b[0m\u001b[0;34m(\u001b[0m\u001b[0;34m'----- RESULTAT-----'\u001b[0m\u001b[0;34m)\u001b[0m\u001b[0;34m\u001b[0m\u001b[0;34m\u001b[0m\u001b[0m\n",
      "\u001b[0;32m<ipython-input-103-f95efab7cfde>\u001b[0m in \u001b[0;36mBasic_VNS\u001b[0;34m(LIST_JOBS, NB_MACHINE)\u001b[0m\n\u001b[1;32m     13\u001b[0m     \u001b[0;32mwhile\u001b[0m \u001b[0mCOUNT\u001b[0m \u001b[0;34m<\u001b[0m \u001b[0;36m1000\u001b[0m\u001b[0;34m:\u001b[0m\u001b[0;34m\u001b[0m\u001b[0;34m\u001b[0m\u001b[0m\n\u001b[1;32m     14\u001b[0m         \u001b[0mS_perturb\u001b[0m \u001b[0;34m=\u001b[0m \u001b[0mperturb\u001b[0m\u001b[0;34m(\u001b[0m\u001b[0mS_best\u001b[0m\u001b[0;34m,\u001b[0m \u001b[0mk\u001b[0m \u001b[0;34m)\u001b[0m\u001b[0;34m\u001b[0m\u001b[0;34m\u001b[0m\u001b[0m\n\u001b[0;32m---> 15\u001b[0;31m         \u001b[0mS\u001b[0m \u001b[0;34m=\u001b[0m \u001b[0mlocal_search_tabu\u001b[0m\u001b[0;34m(\u001b[0m\u001b[0mS_perturb\u001b[0m \u001b[0;34m,\u001b[0m \u001b[0mLIST_JOBS\u001b[0m\u001b[0;34m,\u001b[0m \u001b[0mNB_MACHINE\u001b[0m\u001b[0;34m)\u001b[0m\u001b[0;34m\u001b[0m\u001b[0;34m\u001b[0m\u001b[0m\n\u001b[0m\u001b[1;32m     16\u001b[0m         \u001b[0;31m#S = local_search_recuit_simule(S_perturb)\u001b[0m\u001b[0;34m\u001b[0m\u001b[0;34m\u001b[0m\u001b[0;34m\u001b[0m\u001b[0m\n\u001b[1;32m     17\u001b[0m \u001b[0;34m\u001b[0m\u001b[0m\n",
      "\u001b[0;32m<ipython-input-63-85f956edeab9>\u001b[0m in \u001b[0;36mlocal_search_tabu\u001b[0;34m(X_greedy, LIST_JOBS, NB_MACHINE)\u001b[0m\n\u001b[1;32m     31\u001b[0m     \u001b[0mi\u001b[0m\u001b[0;34m=\u001b[0m\u001b[0;36m0\u001b[0m\u001b[0;34m\u001b[0m\u001b[0;34m\u001b[0m\u001b[0m\n\u001b[1;32m     32\u001b[0m     \u001b[0;32mwhile\u001b[0m \u001b[0mi\u001b[0m \u001b[0;34m<\u001b[0m \u001b[0mIteration\u001b[0m \u001b[0;34m:\u001b[0m\u001b[0;34m\u001b[0m\u001b[0;34m\u001b[0m\u001b[0m\n\u001b[0;32m---> 33\u001b[0;31m         \u001b[0mSc\u001b[0m\u001b[0;34m=\u001b[0m\u001b[0mmeilleur_voisin\u001b[0m\u001b[0;34m(\u001b[0m\u001b[0mSc\u001b[0m\u001b[0;34m,\u001b[0m \u001b[0mLast_visited\u001b[0m\u001b[0;34m)\u001b[0m\u001b[0;34m\u001b[0m\u001b[0;34m\u001b[0m\u001b[0m\n\u001b[0m\u001b[1;32m     34\u001b[0m         \u001b[0;32mif\u001b[0m \u001b[0mSc\u001b[0m\u001b[0;34m.\u001b[0m\u001b[0mduree\u001b[0m\u001b[0;34m<\u001b[0m\u001b[0mS_best\u001b[0m\u001b[0;34m.\u001b[0m\u001b[0mduree\u001b[0m\u001b[0;34m:\u001b[0m\u001b[0;34m\u001b[0m\u001b[0;34m\u001b[0m\u001b[0m\n\u001b[1;32m     35\u001b[0m             \u001b[0mS_best\u001b[0m\u001b[0;34m=\u001b[0m\u001b[0mSc\u001b[0m\u001b[0;34m\u001b[0m\u001b[0;34m\u001b[0m\u001b[0m\n",
      "\u001b[0;32m<ipython-input-63-85f956edeab9>\u001b[0m in \u001b[0;36mmeilleur_voisin\u001b[0;34m(ordo, Last_visited)\u001b[0m\n\u001b[1;32m     12\u001b[0m             \u001b[0msequence\u001b[0m\u001b[0;34m[\u001b[0m\u001b[0mi\u001b[0m\u001b[0;34m]\u001b[0m\u001b[0;34m=\u001b[0m\u001b[0my1\u001b[0m\u001b[0;34m\u001b[0m\u001b[0;34m\u001b[0m\u001b[0m\n\u001b[1;32m     13\u001b[0m             \u001b[0mordo2\u001b[0m \u001b[0;34m=\u001b[0m \u001b[0mordonnancement\u001b[0m\u001b[0;34m.\u001b[0m\u001b[0mOrdonnancement\u001b[0m\u001b[0;34m(\u001b[0m\u001b[0mordo\u001b[0m\u001b[0;34m.\u001b[0m\u001b[0mnombre_machines\u001b[0m\u001b[0;34m)\u001b[0m\u001b[0;34m\u001b[0m\u001b[0;34m\u001b[0m\u001b[0m\n\u001b[0;32m---> 14\u001b[0;31m             \u001b[0mordo2\u001b[0m\u001b[0;34m.\u001b[0m\u001b[0mordonnancer_liste_job\u001b[0m\u001b[0;34m(\u001b[0m\u001b[0msequence\u001b[0m\u001b[0;34m)\u001b[0m\u001b[0;34m\u001b[0m\u001b[0;34m\u001b[0m\u001b[0m\n\u001b[0m\u001b[1;32m     15\u001b[0m             \u001b[0;32mif\u001b[0m \u001b[0mbest_ordo\u001b[0m\u001b[0;34m==\u001b[0m\u001b[0mordo\u001b[0m \u001b[0;32mand\u001b[0m \u001b[0;34m(\u001b[0m\u001b[0mordo2\u001b[0m\u001b[0;34m.\u001b[0m\u001b[0msequence\u001b[0m \u001b[0;32mnot\u001b[0m \u001b[0;32min\u001b[0m \u001b[0mLast_visited\u001b[0m\u001b[0;34m)\u001b[0m\u001b[0;34m:\u001b[0m\u001b[0;34m\u001b[0m\u001b[0;34m\u001b[0m\u001b[0m\n\u001b[1;32m     16\u001b[0m                 \u001b[0mbest_ordo\u001b[0m\u001b[0;34m=\u001b[0m\u001b[0mordo2\u001b[0m\u001b[0;34m\u001b[0m\u001b[0;34m\u001b[0m\u001b[0m\n",
      "\u001b[0;32m~/Desktop/Cours/2A/programmation_dynamique/projet/ordonnancement.py\u001b[0m in \u001b[0;36mordonnancer_liste_job\u001b[0;34m(self, liste_jobs)\u001b[0m\n\u001b[1;32m     80\u001b[0m     \u001b[0;32mdef\u001b[0m \u001b[0mordonnancer_liste_job\u001b[0m\u001b[0;34m(\u001b[0m\u001b[0mself\u001b[0m\u001b[0;34m,\u001b[0m \u001b[0mliste_jobs\u001b[0m\u001b[0;34m)\u001b[0m\u001b[0;34m:\u001b[0m\u001b[0;34m\u001b[0m\u001b[0;34m\u001b[0m\u001b[0m\n\u001b[1;32m     81\u001b[0m         \u001b[0;32mfor\u001b[0m \u001b[0mj\u001b[0m \u001b[0;32min\u001b[0m \u001b[0mliste_jobs\u001b[0m \u001b[0;34m:\u001b[0m\u001b[0;34m\u001b[0m\u001b[0;34m\u001b[0m\u001b[0m\n\u001b[0;32m---> 82\u001b[0;31m             \u001b[0mself\u001b[0m\u001b[0;34m.\u001b[0m\u001b[0mordonnancer_job\u001b[0m\u001b[0;34m(\u001b[0m\u001b[0mj\u001b[0m\u001b[0;34m)\u001b[0m\u001b[0;34m\u001b[0m\u001b[0;34m\u001b[0m\u001b[0m\n\u001b[0m\u001b[1;32m     83\u001b[0m         \u001b[0mself\u001b[0m\u001b[0;34m.\u001b[0m\u001b[0mduree\u001b[0m \u001b[0;34m=\u001b[0m \u001b[0mliste_jobs\u001b[0m\u001b[0;34m[\u001b[0m\u001b[0;34m-\u001b[0m\u001b[0;36m1\u001b[0m\u001b[0;34m]\u001b[0m\u001b[0;34m.\u001b[0m\u001b[0mdate_debut\u001b[0m\u001b[0;34m[\u001b[0m\u001b[0;34m-\u001b[0m\u001b[0;36m1\u001b[0m\u001b[0;34m]\u001b[0m \u001b[0;34m+\u001b[0m \u001b[0mliste_jobs\u001b[0m\u001b[0;34m[\u001b[0m\u001b[0;34m-\u001b[0m\u001b[0;36m1\u001b[0m\u001b[0;34m]\u001b[0m\u001b[0;34m.\u001b[0m\u001b[0mduree_operation\u001b[0m\u001b[0;34m[\u001b[0m\u001b[0;34m-\u001b[0m\u001b[0;36m1\u001b[0m\u001b[0;34m]\u001b[0m\u001b[0;34m\u001b[0m\u001b[0;34m\u001b[0m\u001b[0m\n\u001b[1;32m     84\u001b[0m \u001b[0;34m\u001b[0m\u001b[0m\n",
      "\u001b[0;32m~/Desktop/Cours/2A/programmation_dynamique/projet/ordonnancement.py\u001b[0m in \u001b[0;36mordonnancer_job\u001b[0;34m(self, job)\u001b[0m\n\u001b[1;32m     57\u001b[0m     \u001b[0;31m#####################\u001b[0m\u001b[0;34m\u001b[0m\u001b[0;34m\u001b[0m\u001b[0;34m\u001b[0m\u001b[0m\n\u001b[1;32m     58\u001b[0m     \u001b[0;32mdef\u001b[0m \u001b[0mordonnancer_job\u001b[0m\u001b[0;34m(\u001b[0m\u001b[0mself\u001b[0m\u001b[0;34m,\u001b[0m \u001b[0mjob\u001b[0m\u001b[0;34m)\u001b[0m\u001b[0;34m:\u001b[0m\u001b[0;34m\u001b[0m\u001b[0;34m\u001b[0m\u001b[0m\n\u001b[0;32m---> 59\u001b[0;31m         \u001b[0mself\u001b[0m\u001b[0;34m.\u001b[0m\u001b[0msequence\u001b[0m\u001b[0;34m.\u001b[0m\u001b[0mappend\u001b[0m\u001b[0;34m(\u001b[0m\u001b[0mjob\u001b[0m\u001b[0;34m)\u001b[0m\u001b[0;34m\u001b[0m\u001b[0;34m\u001b[0m\u001b[0m\n\u001b[0m\u001b[1;32m     60\u001b[0m \u001b[0;34m\u001b[0m\u001b[0m\n\u001b[1;32m     61\u001b[0m         \u001b[0;31m# IF 1 JOB :\u001b[0m\u001b[0;34m\u001b[0m\u001b[0;34m\u001b[0m\u001b[0;34m\u001b[0m\u001b[0m\n",
      "\u001b[0;31mKeyboardInterrupt\u001b[0m: "
     ]
    }
   ],
   "source": [
    "print(\"tai11 :\")\n",
    "prob = flowshop.Flowshop()\n",
    "prob.definir_par_fichier('/Users/corentin/Desktop/Cours/2A/programmation_dynamique/projet/data/jeu_de_données_1/tai11.txt')\n",
    "L = prob.liste_jobs\n",
    "m = prob.nombre_machines\n",
    "\n",
    "\n",
    "start_time = time.time()\n",
    "result=Basic_VNS( L, m)\n",
    "elapsed_time = time.time() - start_time\n",
    "print('----- RESULTAT-----')\n",
    "print('Temps de résolution : {}s'.format(round(elapsed_time,3)))\n",
    "print(\"durée :\", result.duree)\n",
    "print([ job.numero for job in result.sequence])"
   ]
  },
  {
   "cell_type": "code",
   "execution_count": 7,
   "metadata": {},
   "outputs": [
    {
     "name": "stdout",
     "output_type": "stream",
     "text": [
      "tai51 :\n",
      "Initial solution : [34, 42, 19, 49, 44, 30, 4, 9, 32, 25, 5, 7, 35, 41, 28, 40, 45, 46, 27, 48, 31, 0, 12, 15, 33, 11, 47, 1, 37, 6, 38, 21, 16, 39, 10, 22, 13, 36, 20, 23, 17, 18, 8, 14, 3, 29, 43, 26, 24, 2] | Durée : 4082\n",
      "New solution found : [34, 42, 30, 36, 44, 19, 4, 9, 32, 25, 5, 35, 7, 41, 28, 40, 45, 46, 48, 27, 31, 0, 12, 15, 1, 11, 47, 33, 37, 6, 38, 21, 20, 22, 10, 39, 13, 26, 16, 23, 17, 18, 8, 14, 29, 3, 43, 24, 49, 2] | Durée : 3976\n",
      "New solution found : [34, 42, 30, 4, 35, 19, 44, 9, 32, 25, 5, 36, 7, 41, 28, 40, 45, 46, 48, 27, 31, 0, 12, 15, 1, 11, 47, 33, 37, 6, 38, 21, 20, 22, 10, 39, 13, 26, 16, 23, 17, 18, 14, 8, 29, 3, 43, 24, 49, 2] | Durée : 3975\n",
      "New solution found : [34, 42, 30, 4, 35, 19, 44, 9, 32, 25, 5, 36, 7, 41, 28, 40, 45, 46, 48, 27, 31, 0, 12, 15, 1, 11, 47, 33, 37, 6, 38, 21, 20, 22, 10, 39, 13, 26, 16, 23, 17, 18, 8, 14, 29, 3, 43, 24, 49, 2] | Durée : 3972\n",
      "New solution found : [34, 42, 30, 4, 35, 19, 9, 41, 32, 25, 5, 36, 33, 0, 28, 40, 45, 46, 48, 27, 31, 44, 12, 15, 1, 11, 47, 7, 37, 6, 38, 22, 20, 21, 10, 39, 13, 26, 16, 23, 17, 18, 8, 14, 29, 3, 43, 24, 49, 2] | Durée : 3971\n"
     ]
    },
    {
     "ename": "KeyboardInterrupt",
     "evalue": "",
     "output_type": "error",
     "traceback": [
      "\u001b[0;31m---------------------------------------------------------------------------\u001b[0m",
      "\u001b[0;31mKeyboardInterrupt\u001b[0m                         Traceback (most recent call last)",
      "\u001b[0;32m<ipython-input-7-be86b56c441f>\u001b[0m in \u001b[0;36m<module>\u001b[0;34m\u001b[0m\n\u001b[1;32m      7\u001b[0m \u001b[0;34m\u001b[0m\u001b[0m\n\u001b[1;32m      8\u001b[0m \u001b[0mstart_time\u001b[0m \u001b[0;34m=\u001b[0m \u001b[0mtime\u001b[0m\u001b[0;34m.\u001b[0m\u001b[0mtime\u001b[0m\u001b[0;34m(\u001b[0m\u001b[0;34m)\u001b[0m\u001b[0;34m\u001b[0m\u001b[0;34m\u001b[0m\u001b[0m\n\u001b[0;32m----> 9\u001b[0;31m \u001b[0mresult\u001b[0m\u001b[0;34m=\u001b[0m\u001b[0mBasic_VNS\u001b[0m\u001b[0;34m(\u001b[0m \u001b[0mL\u001b[0m\u001b[0;34m,\u001b[0m \u001b[0mm\u001b[0m\u001b[0;34m)\u001b[0m\u001b[0;34m\u001b[0m\u001b[0;34m\u001b[0m\u001b[0m\n\u001b[0m\u001b[1;32m     10\u001b[0m \u001b[0melapsed_time\u001b[0m \u001b[0;34m=\u001b[0m \u001b[0mtime\u001b[0m\u001b[0;34m.\u001b[0m\u001b[0mtime\u001b[0m\u001b[0;34m(\u001b[0m\u001b[0;34m)\u001b[0m \u001b[0;34m-\u001b[0m \u001b[0mstart_time\u001b[0m\u001b[0;34m\u001b[0m\u001b[0;34m\u001b[0m\u001b[0m\n\u001b[1;32m     11\u001b[0m \u001b[0mprint\u001b[0m\u001b[0;34m(\u001b[0m\u001b[0;34m'----- RESULTAT-----'\u001b[0m\u001b[0;34m)\u001b[0m\u001b[0;34m\u001b[0m\u001b[0;34m\u001b[0m\u001b[0m\n",
      "\u001b[0;32m<ipython-input-5-f95efab7cfde>\u001b[0m in \u001b[0;36mBasic_VNS\u001b[0;34m(LIST_JOBS, NB_MACHINE)\u001b[0m\n\u001b[1;32m     13\u001b[0m     \u001b[0;32mwhile\u001b[0m \u001b[0mCOUNT\u001b[0m \u001b[0;34m<\u001b[0m \u001b[0;36m1000\u001b[0m\u001b[0;34m:\u001b[0m\u001b[0;34m\u001b[0m\u001b[0;34m\u001b[0m\u001b[0m\n\u001b[1;32m     14\u001b[0m         \u001b[0mS_perturb\u001b[0m \u001b[0;34m=\u001b[0m \u001b[0mperturb\u001b[0m\u001b[0;34m(\u001b[0m\u001b[0mS_best\u001b[0m\u001b[0;34m,\u001b[0m \u001b[0mk\u001b[0m \u001b[0;34m)\u001b[0m\u001b[0;34m\u001b[0m\u001b[0;34m\u001b[0m\u001b[0m\n\u001b[0;32m---> 15\u001b[0;31m         \u001b[0mS\u001b[0m \u001b[0;34m=\u001b[0m \u001b[0mlocal_search_tabu\u001b[0m\u001b[0;34m(\u001b[0m\u001b[0mS_perturb\u001b[0m \u001b[0;34m,\u001b[0m \u001b[0mLIST_JOBS\u001b[0m\u001b[0;34m,\u001b[0m \u001b[0mNB_MACHINE\u001b[0m\u001b[0;34m)\u001b[0m\u001b[0;34m\u001b[0m\u001b[0;34m\u001b[0m\u001b[0m\n\u001b[0m\u001b[1;32m     16\u001b[0m         \u001b[0;31m#S = local_search_recuit_simule(S_perturb)\u001b[0m\u001b[0;34m\u001b[0m\u001b[0;34m\u001b[0m\u001b[0;34m\u001b[0m\u001b[0m\n\u001b[1;32m     17\u001b[0m \u001b[0;34m\u001b[0m\u001b[0m\n",
      "\u001b[0;32m<ipython-input-3-85f956edeab9>\u001b[0m in \u001b[0;36mlocal_search_tabu\u001b[0;34m(X_greedy, LIST_JOBS, NB_MACHINE)\u001b[0m\n\u001b[1;32m     31\u001b[0m     \u001b[0mi\u001b[0m\u001b[0;34m=\u001b[0m\u001b[0;36m0\u001b[0m\u001b[0;34m\u001b[0m\u001b[0;34m\u001b[0m\u001b[0m\n\u001b[1;32m     32\u001b[0m     \u001b[0;32mwhile\u001b[0m \u001b[0mi\u001b[0m \u001b[0;34m<\u001b[0m \u001b[0mIteration\u001b[0m \u001b[0;34m:\u001b[0m\u001b[0;34m\u001b[0m\u001b[0;34m\u001b[0m\u001b[0m\n\u001b[0;32m---> 33\u001b[0;31m         \u001b[0mSc\u001b[0m\u001b[0;34m=\u001b[0m\u001b[0mmeilleur_voisin\u001b[0m\u001b[0;34m(\u001b[0m\u001b[0mSc\u001b[0m\u001b[0;34m,\u001b[0m \u001b[0mLast_visited\u001b[0m\u001b[0;34m)\u001b[0m\u001b[0;34m\u001b[0m\u001b[0;34m\u001b[0m\u001b[0m\n\u001b[0m\u001b[1;32m     34\u001b[0m         \u001b[0;32mif\u001b[0m \u001b[0mSc\u001b[0m\u001b[0;34m.\u001b[0m\u001b[0mduree\u001b[0m\u001b[0;34m<\u001b[0m\u001b[0mS_best\u001b[0m\u001b[0;34m.\u001b[0m\u001b[0mduree\u001b[0m\u001b[0;34m:\u001b[0m\u001b[0;34m\u001b[0m\u001b[0;34m\u001b[0m\u001b[0m\n\u001b[1;32m     35\u001b[0m             \u001b[0mS_best\u001b[0m\u001b[0;34m=\u001b[0m\u001b[0mSc\u001b[0m\u001b[0;34m\u001b[0m\u001b[0;34m\u001b[0m\u001b[0m\n",
      "\u001b[0;32m<ipython-input-3-85f956edeab9>\u001b[0m in \u001b[0;36mmeilleur_voisin\u001b[0;34m(ordo, Last_visited)\u001b[0m\n\u001b[1;32m     12\u001b[0m             \u001b[0msequence\u001b[0m\u001b[0;34m[\u001b[0m\u001b[0mi\u001b[0m\u001b[0;34m]\u001b[0m\u001b[0;34m=\u001b[0m\u001b[0my1\u001b[0m\u001b[0;34m\u001b[0m\u001b[0;34m\u001b[0m\u001b[0m\n\u001b[1;32m     13\u001b[0m             \u001b[0mordo2\u001b[0m \u001b[0;34m=\u001b[0m \u001b[0mordonnancement\u001b[0m\u001b[0;34m.\u001b[0m\u001b[0mOrdonnancement\u001b[0m\u001b[0;34m(\u001b[0m\u001b[0mordo\u001b[0m\u001b[0;34m.\u001b[0m\u001b[0mnombre_machines\u001b[0m\u001b[0;34m)\u001b[0m\u001b[0;34m\u001b[0m\u001b[0;34m\u001b[0m\u001b[0m\n\u001b[0;32m---> 14\u001b[0;31m             \u001b[0mordo2\u001b[0m\u001b[0;34m.\u001b[0m\u001b[0mordonnancer_liste_job\u001b[0m\u001b[0;34m(\u001b[0m\u001b[0msequence\u001b[0m\u001b[0;34m)\u001b[0m\u001b[0;34m\u001b[0m\u001b[0;34m\u001b[0m\u001b[0m\n\u001b[0m\u001b[1;32m     15\u001b[0m             \u001b[0;32mif\u001b[0m \u001b[0mbest_ordo\u001b[0m\u001b[0;34m==\u001b[0m\u001b[0mordo\u001b[0m \u001b[0;32mand\u001b[0m \u001b[0;34m(\u001b[0m\u001b[0mordo2\u001b[0m\u001b[0;34m.\u001b[0m\u001b[0msequence\u001b[0m \u001b[0;32mnot\u001b[0m \u001b[0;32min\u001b[0m \u001b[0mLast_visited\u001b[0m\u001b[0;34m)\u001b[0m\u001b[0;34m:\u001b[0m\u001b[0;34m\u001b[0m\u001b[0;34m\u001b[0m\u001b[0m\n\u001b[1;32m     16\u001b[0m                 \u001b[0mbest_ordo\u001b[0m\u001b[0;34m=\u001b[0m\u001b[0mordo2\u001b[0m\u001b[0;34m\u001b[0m\u001b[0;34m\u001b[0m\u001b[0m\n",
      "\u001b[0;32m~/Desktop/Cours/2A/programmation_dynamique/projet/ordonnancement.py\u001b[0m in \u001b[0;36mordonnancer_liste_job\u001b[0;34m(self, liste_jobs)\u001b[0m\n\u001b[1;32m     80\u001b[0m     \u001b[0;32mdef\u001b[0m \u001b[0mordonnancer_liste_job\u001b[0m\u001b[0;34m(\u001b[0m\u001b[0mself\u001b[0m\u001b[0;34m,\u001b[0m \u001b[0mliste_jobs\u001b[0m\u001b[0;34m)\u001b[0m\u001b[0;34m:\u001b[0m\u001b[0;34m\u001b[0m\u001b[0;34m\u001b[0m\u001b[0m\n\u001b[1;32m     81\u001b[0m         \u001b[0;32mfor\u001b[0m \u001b[0mj\u001b[0m \u001b[0;32min\u001b[0m \u001b[0mliste_jobs\u001b[0m \u001b[0;34m:\u001b[0m\u001b[0;34m\u001b[0m\u001b[0;34m\u001b[0m\u001b[0m\n\u001b[0;32m---> 82\u001b[0;31m             \u001b[0mself\u001b[0m\u001b[0;34m.\u001b[0m\u001b[0mordonnancer_job\u001b[0m\u001b[0;34m(\u001b[0m\u001b[0mj\u001b[0m\u001b[0;34m)\u001b[0m\u001b[0;34m\u001b[0m\u001b[0;34m\u001b[0m\u001b[0m\n\u001b[0m\u001b[1;32m     83\u001b[0m         \u001b[0mself\u001b[0m\u001b[0;34m.\u001b[0m\u001b[0mduree\u001b[0m \u001b[0;34m=\u001b[0m \u001b[0mliste_jobs\u001b[0m\u001b[0;34m[\u001b[0m\u001b[0;34m-\u001b[0m\u001b[0;36m1\u001b[0m\u001b[0;34m]\u001b[0m\u001b[0;34m.\u001b[0m\u001b[0mdate_debut\u001b[0m\u001b[0;34m[\u001b[0m\u001b[0;34m-\u001b[0m\u001b[0;36m1\u001b[0m\u001b[0;34m]\u001b[0m \u001b[0;34m+\u001b[0m \u001b[0mliste_jobs\u001b[0m\u001b[0;34m[\u001b[0m\u001b[0;34m-\u001b[0m\u001b[0;36m1\u001b[0m\u001b[0;34m]\u001b[0m\u001b[0;34m.\u001b[0m\u001b[0mduree_operation\u001b[0m\u001b[0;34m[\u001b[0m\u001b[0;34m-\u001b[0m\u001b[0;36m1\u001b[0m\u001b[0;34m]\u001b[0m\u001b[0;34m\u001b[0m\u001b[0;34m\u001b[0m\u001b[0m\n\u001b[1;32m     84\u001b[0m \u001b[0;34m\u001b[0m\u001b[0m\n",
      "\u001b[0;32m~/Desktop/Cours/2A/programmation_dynamique/projet/ordonnancement.py\u001b[0m in \u001b[0;36mordonnancer_job\u001b[0;34m(self, job)\u001b[0m\n\u001b[1;32m     69\u001b[0m             \u001b[0;32mfor\u001b[0m \u001b[0mm\u001b[0m \u001b[0;32min\u001b[0m \u001b[0mrange\u001b[0m \u001b[0;34m(\u001b[0m\u001b[0;36m1\u001b[0m\u001b[0;34m,\u001b[0m\u001b[0mself\u001b[0m\u001b[0;34m.\u001b[0m\u001b[0mnombre_machines\u001b[0m\u001b[0;34m)\u001b[0m\u001b[0;34m:\u001b[0m\u001b[0;34m\u001b[0m\u001b[0;34m\u001b[0m\u001b[0m\n\u001b[1;32m     70\u001b[0m                 job.date_debut[m] = max(self.sequence[-2].date_debut[m] + self.sequence[-2].duree_operation[m],\n\u001b[0;32m---> 71\u001b[0;31m                               job.date_debut[m-1] + job.duree_operation[m-1])\n\u001b[0m\u001b[1;32m     72\u001b[0m \u001b[0;34m\u001b[0m\u001b[0m\n\u001b[1;32m     73\u001b[0m         \u001b[0;31m#job.duree = job.date_debut[-1] + job.duree_operation[-1]\u001b[0m\u001b[0;34m\u001b[0m\u001b[0;34m\u001b[0m\u001b[0;34m\u001b[0m\u001b[0m\n",
      "\u001b[0;31mKeyboardInterrupt\u001b[0m: "
     ]
    }
   ],
   "source": [
    "print(\"tai51 :\")\n",
    "prob = flowshop.Flowshop()\n",
    "prob.definir_par_fichier('/Users/corentin/Desktop/Cours/2A/programmation_dynamique/projet/data/jeu_de_données_1/tai51.txt')\n",
    "L = prob.liste_jobs\n",
    "m = prob.nombre_machines\n",
    "\n",
    "\n",
    "start_time = time.time()\n",
    "result=Basic_VNS( L, m)\n",
    "elapsed_time = time.time() - start_time\n",
    "print('----- RESULTAT-----')\n",
    "print('Temps de résolution : {}s'.format(round(elapsed_time,3)))\n",
    "print(\"durée :\", result.duree)\n",
    "print([ job.numero for job in result.sequence])"
   ]
  },
  {
   "cell_type": "code",
   "execution_count": null,
   "metadata": {},
   "outputs": [],
   "source": []
  },
  {
   "cell_type": "code",
   "execution_count": null,
   "metadata": {},
   "outputs": [],
   "source": []
  }
 ],
 "metadata": {
  "kernelspec": {
   "display_name": "Python 3",
   "language": "python",
   "name": "python3"
  },
  "language_info": {
   "codemirror_mode": {
    "name": "ipython",
    "version": 3
   },
   "file_extension": ".py",
   "mimetype": "text/x-python",
   "name": "python",
   "nbconvert_exporter": "python",
   "pygments_lexer": "ipython3",
   "version": "3.7.4"
  }
 },
 "nbformat": 4,
 "nbformat_minor": 2
}
