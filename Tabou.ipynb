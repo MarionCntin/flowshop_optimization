{
 "cells": [
  {
   "cell_type": "markdown",
   "metadata": {},
   "source": [
    "# Algorithme Tabou\n",
    "-----------------------------------------------------------"
   ]
  },
  {
   "cell_type": "code",
   "execution_count": 7,
   "metadata": {},
   "outputs": [],
   "source": [
    "import job\n",
    "import ordonnancement\n",
    "import sommet\n",
    "import flowshop\n",
    "import copy\n",
    "import time"
   ]
  },
  {
   "cell_type": "code",
   "execution_count": 8,
   "metadata": {},
   "outputs": [],
   "source": [
    "Iteration=15"
   ]
  },
  {
   "cell_type": "code",
   "execution_count": 9,
   "metadata": {},
   "outputs": [],
   "source": [
    "def meilleur_voisin(ordo, Last_visited):                \n",
    "    nb_jobs=len(ordo.sequence)\n",
    "    best_ordo=ordo\n",
    "    for k in range(nb_jobs-1):\n",
    "        for i in range(k+1,nb_jobs):\n",
    "            sequence=copy.copy(ordo.sequence)\n",
    "            y1=sequence[k]\n",
    "            y2=sequence[i]\n",
    "            sequence[k]=y2\n",
    "            sequence[i]=y1\n",
    "            ordo2 = ordonnancement.Ordonnancement(ordo.nombre_machines)\n",
    "            ordo2.ordonnancer_liste_job(sequence)\n",
    "            if best_ordo==ordo and (ordo2.sequence not in Last_visited):\n",
    "                best_ordo=ordo2\n",
    "            if ordo2.duree<best_ordo.duree and (ordo2.sequence not in Last_visited):\n",
    "                best_ordo=ordo2\n",
    "    return best_ordo\n",
    "            "
   ]
  },
  {
   "cell_type": "code",
   "execution_count": 10,
   "metadata": {},
   "outputs": [],
   "source": [
    "def tabou(L, nb_machines):\n",
    "    #Création d'une solution de départ\n",
    "    Sc= ordonnancement.Ordonnancement(nb_machines)\n",
    "    Sc.ordonnancer_liste_job(L)\n",
    "    \n",
    "    #S_best constitue la meilleure solution trouvée\n",
    "    S_best=Sc\n",
    "    \n",
    "    #Initialisation de la liste des dernieres solutions trouvées\n",
    "    Last_visited=[Sc.sequence]\n",
    "    i=0\n",
    "    while i < Iteration :\n",
    "        Sc=meilleur_voisin(Sc, Last_visited)\n",
    "        if Sc.duree<S_best.duree:\n",
    "            S_best=Sc\n",
    "        \n",
    "        Last_visited.append(Sc.sequence)\n",
    "        if len(Last_visited)>4:\n",
    "            Last_visited.pop(0)\n",
    "        i+=1\n",
    "    return S_best"
   ]
  },
  {
   "cell_type": "code",
   "execution_count": 12,
   "metadata": {},
   "outputs": [
    {
     "name": "stdout",
     "output_type": "stream",
     "text": [
      "JEU 2 :\n",
      "----- RESULTAT-----\n",
      "Temps de résolution : 0.021s\n",
      "durée : 704\n",
      "[2, 5, 0, 3, 1, 7, 4, 6]\n"
     ]
    }
   ],
   "source": [
    "print(\"JEU 2 :\")\n",
    "prob = flowshop.Flowshop()\n",
    "prob.definir_par_fichier('data/jeu2.txt')\n",
    "start_time = time.time()\n",
    "result=tabou(prob.liste_jobs, prob.nombre_machines)\n",
    "elapsed_time = time.time() - start_time\n",
    "print('----- RESULTAT-----')\n",
    "print('Temps de résolution : {}s'.format(round(elapsed_time,3)))\n",
    "print(\"durée :\", result.duree)\n",
    "print([ job.numero for job in result.sequence])"
   ]
  },
  {
   "cell_type": "code",
   "execution_count": null,
   "metadata": {},
   "outputs": [],
   "source": []
  }
 ],
 "metadata": {
  "kernelspec": {
   "display_name": "Python 3",
   "language": "python",
   "name": "python3"
  },
  "language_info": {
   "codemirror_mode": {
    "name": "ipython",
    "version": 3
   },
   "file_extension": ".py",
   "mimetype": "text/x-python",
   "name": "python",
   "nbconvert_exporter": "python",
   "pygments_lexer": "ipython3",
   "version": "3.7.4"
  }
 },
 "nbformat": 4,
 "nbformat_minor": 4
}
