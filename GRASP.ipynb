{
 "cells": [
  {
   "cell_type": "code",
   "execution_count": 6,
   "metadata": {},
   "outputs": [],
   "source": [
    "# Library\n",
    "import random\n",
    "import job\n",
    "import ordonnancement\n",
    "import sommet\n",
    "import flowshop\n",
    "import time\n",
    "import copy"
   ]
  },
  {
   "cell_type": "markdown",
   "metadata": {},
   "source": [
    "# Greedy\n",
    "- Ne prendre tout le monde : qualité médiocre\n",
    "- Ne prendre que les meilleurs : bouclé sur les mêmes solutions "
   ]
  },
  {
   "cell_type": "code",
   "execution_count": 7,
   "metadata": {},
   "outputs": [],
   "source": [
    "def randomized_greedy(LIST_JOBS , NB_MACHINE ):\n",
    "    \"\"\"\n",
    "        Return feasible solution X | X = Ordonnancement\n",
    "    \"\"\"\n",
    "    \n",
    "    X = ordonnancement.Ordonnancement(NB_MACHINE)\n",
    "    random.shuffle(LIST_JOBS)\n",
    "    X.ordonnancer_liste_job(LIST_JOBS)\n",
    "\n",
    "    return (X)"
   ]
  },
  {
   "cell_type": "markdown",
   "metadata": {},
   "source": [
    "# Local search : TABOU\n",
    "Ici, nous utiliserons une RL : Tabu"
   ]
  },
  {
   "cell_type": "code",
   "execution_count": 18,
   "metadata": {},
   "outputs": [],
   "source": [
    "Iteration=25\n",
    "\n",
    "def meilleur_voisin(ordo, Last_visited):                \n",
    "    nb_jobs=len(ordo.sequence)\n",
    "    best_ordo=ordo\n",
    "    for k in range(nb_jobs-1):\n",
    "        for i in range(k+1,nb_jobs):\n",
    "            sequence=copy.copy(ordo.sequence)\n",
    "            y1=sequence[k]\n",
    "            y2=sequence[i]\n",
    "            sequence[k]=y2\n",
    "            sequence[i]=y1\n",
    "            ordo2 = ordonnancement.Ordonnancement(ordo.nombre_machines)\n",
    "            ordo2.ordonnancer_liste_job(sequence)\n",
    "            if best_ordo==ordo and (ordo2.sequence not in Last_visited):\n",
    "                best_ordo=ordo2\n",
    "            if ordo2.duree<best_ordo.duree and (ordo2.sequence not in Last_visited):\n",
    "                best_ordo=ordo2\n",
    "    return best_ordo\n",
    "\n",
    "\n",
    "def local_search_tabu(X_greedy, LIST_JOBS, NB_MACHINE):\n",
    "    #Création d'une solution de départ\n",
    "    Sc= X_greedy\n",
    "    \n",
    "    #S_best constitue la meilleure solution trouvée\n",
    "    S_best=Sc\n",
    "    \n",
    "    #Initialisation de la liste des dernieres solutions trouvées\n",
    "    Last_visited=[Sc.sequence]\n",
    "    i=0\n",
    "    while i < Iteration :\n",
    "        Sc=meilleur_voisin(Sc, Last_visited)\n",
    "        if Sc.duree<S_best.duree:\n",
    "            S_best=Sc\n",
    "        \n",
    "        Last_visited.append(Sc.sequence)\n",
    "        if len(Last_visited)>4:\n",
    "            Last_visited.pop(0)\n",
    "        i+=1\n",
    "    return S_best"
   ]
  },
  {
   "cell_type": "markdown",
   "metadata": {},
   "source": [
    "# GRASP\n",
    "- Input : \n",
    "    - alpha : [0,1] - Random seed \n",
    "    - time limit"
   ]
  },
  {
   "cell_type": "code",
   "execution_count": 9,
   "metadata": {},
   "outputs": [],
   "source": [
    "# Parameters\n",
    "alpha = 0.1\n",
    "time_limit = 4"
   ]
  },
  {
   "cell_type": "code",
   "execution_count": 10,
   "metadata": {},
   "outputs": [],
   "source": [
    "def GRASP( alpha, time_limit, LIST_JOBS, NB_MACHINE):\n",
    "    \n",
    "    \"\"\"\n",
    "        Return best solution found X* \n",
    "    \"\"\"\n",
    "    \n",
    "    #Création d'une solution de départ\n",
    "    X_best= ordonnancement.Ordonnancement(NB_MACHINE)\n",
    "    X_best.ordonnancer_liste_job(LIST_JOBS)\n",
    "    print('Initial solution : {} | Durée : {}'.format([x.numero for x in X_best.sequence], X_best.duree))\n",
    "    \n",
    "    # CPU Time\n",
    "    CPU_time_start = time.time()\n",
    "    CPU_time = 0\n",
    "    \n",
    "    while CPU_time < time_limit : \n",
    "        X_greedy = randomized_greedy(LIST_JOBS , NB_MACHINE)\n",
    "        X = local_search_tabu(X_greedy,LIST_JOBS, NB_MACHINE)          # type(X) = Ordonnancement\n",
    "        if X.duree < X_best.duree:\n",
    "            X_best = X \n",
    "            print('New solution found : {} | Durée : {}'.format([x.numero for x in X_best.sequence], X_best.duree))\n",
    "        \n",
    "        # Update CPU Time\n",
    "        CPU_time = time.time() - CPU_time_start\n",
    "    \n",
    "    return (X_best)"
   ]
  },
  {
   "cell_type": "markdown",
   "metadata": {},
   "source": [
    "# Tests"
   ]
  },
  {
   "cell_type": "code",
   "execution_count": 11,
   "metadata": {},
   "outputs": [
    {
     "name": "stdout",
     "output_type": "stream",
     "text": [
      "JEU 1 :\n",
      "Initial solution : [0, 1, 2, 3] | Durée : 54\n",
      "----- RESULTAT-----\n",
      "Temps de résolution : 1.003s\n",
      "durée : 54\n",
      "[0, 1, 2, 3]\n"
     ]
    }
   ],
   "source": [
    "print(\"JEU 1 :\")\n",
    "prob = flowshop.Flowshop()\n",
    "prob.definir_par_fichier('data/jeu1.txt')\n",
    "L = prob.liste_jobs\n",
    "m = prob.nombre_machines\n",
    "\n",
    "# Parameters\n",
    "time_limit = 1\n",
    "\n",
    "start_time = time.time()\n",
    "result=GRASP(alpha, time_limit, L, m)\n",
    "elapsed_time = time.time() - start_time\n",
    "print('----- RESULTAT-----')\n",
    "print('Temps de résolution : {}s'.format(round(elapsed_time,3)))\n",
    "print(\"durée :\", result.duree)\n",
    "print([ job.numero for job in result.sequence])\n",
    "\n"
   ]
  },
  {
   "cell_type": "code",
   "execution_count": 7,
   "metadata": {},
   "outputs": [
    {
     "name": "stdout",
     "output_type": "stream",
     "text": [
      "JEU 2 :\n",
      "Initial solution : [0, 1, 2, 3, 4, 5, 6, 7] | Durée : 765\n",
      "New solution found : [5, 2, 3, 1, 7, 4, 6, 0] | Durée : 707\n",
      "New solution found : [5, 3, 1, 0, 2, 4, 6, 7] | Durée : 706\n",
      "New solution found : [2, 5, 0, 3, 1, 7, 4, 6] | Durée : 704\n",
      "----- RESULTAT-----\n",
      "Temps de résolution : 1.004s\n",
      "durée : 704\n",
      "[2, 5, 0, 3, 1, 7, 4, 6]\n"
     ]
    }
   ],
   "source": [
    "print(\"JEU 2 :\")\n",
    "prob = flowshop.Flowshop()\n",
    "prob.definir_par_fichier('data/jeu2.txt')\n",
    "L = prob.liste_jobs\n",
    "m = prob.nombre_machines\n",
    "\n",
    "# Parameters\n",
    "time_limit = 1\n",
    "\n",
    "start_time = time.time()\n",
    "result=GRASP(alpha, time_limit, L, m)\n",
    "elapsed_time = time.time() - start_time\n",
    "print('----- RESULTAT-----')\n",
    "print('Temps de résolution : {}s'.format(round(elapsed_time,3)))\n",
    "print(\"durée :\", result.duree)\n",
    "print([ job.numero for job in result.sequence])"
   ]
  },
  {
   "cell_type": "code",
   "execution_count": 30,
   "metadata": {},
   "outputs": [
    {
     "name": "stdout",
     "output_type": "stream",
     "text": [
      "tai01 :\n",
      "Initial solution : [0, 1, 2, 3, 4, 5, 6, 7, 8, 9, 10, 11, 12, 13, 14, 15, 16, 17, 18, 19] | Durée : 1448\n",
      "New solution found : [12, 0, 7, 10, 8, 2, 3, 5, 14, 15, 11, 18, 4, 13, 16, 1, 17, 9, 6, 19] | Durée : 1305\n",
      "New solution found : [12, 16, 15, 8, 14, 5, 13, 18, 3, 4, 17, 1, 2, 6, 0, 11, 7, 10, 9, 19] | Durée : 1297\n",
      "New solution found : [8, 14, 5, 16, 13, 4, 7, 3, 2, 15, 10, 12, 17, 18, 6, 0, 1, 9, 19, 11] | Durée : 1278\n",
      "----- RESULTAT-----\n",
      "Temps de résolution : 300.1s\n",
      "durée : 1278\n",
      "[8, 14, 5, 16, 13, 4, 7, 3, 2, 15, 10, 12, 17, 18, 6, 0, 1, 9, 19, 11]\n"
     ]
    }
   ],
   "source": [
    "print(\"tai01 :\")\n",
    "prob = flowshop.Flowshop()\n",
    "prob.definir_par_fichier('/Users/corentin/Desktop/Cours/2A/programmation_dynamique/projet/data/jeu_de_données_1/tai01.txt')\n",
    "L = prob.liste_jobs\n",
    "m = prob.nombre_machines\n",
    "\n",
    "# Parameters\n",
    "time_limit = 300\n",
    "\n",
    "start_time = time.time()\n",
    "result=GRASP(alpha, time_limit, L, m)\n",
    "elapsed_time = time.time() - start_time\n",
    "print('----- RESULTAT-----')\n",
    "print('Temps de résolution : {}s'.format(round(elapsed_time,3)))\n",
    "print(\"durée :\", result.duree)\n",
    "print([ job.numero for job in result.sequence])"
   ]
  },
  {
   "cell_type": "code",
   "execution_count": 16,
   "metadata": {},
   "outputs": [
    {
     "name": "stdout",
     "output_type": "stream",
     "text": [
      "tai52 :\n",
      "Initial solution : [0, 1, 2, 3, 4, 5, 6, 7, 8, 9, 10, 11, 12, 13, 14, 15, 16, 17, 18, 19, 20, 21, 22, 23, 24, 25, 26, 27, 28, 29, 30, 31, 32, 33, 34, 35, 36, 37, 38, 39, 40, 41, 42, 43, 44, 45, 46, 47, 48, 49] | Durée : 4730\n"
     ]
    },
    {
     "ename": "KeyboardInterrupt",
     "evalue": "",
     "output_type": "error",
     "traceback": [
      "\u001b[0;31m---------------------------------------------------------------------------\u001b[0m",
      "\u001b[0;31mKeyboardInterrupt\u001b[0m                         Traceback (most recent call last)",
      "\u001b[0;32m<ipython-input-16-43aa3aa71574>\u001b[0m in \u001b[0;36m<module>\u001b[0;34m\u001b[0m\n\u001b[1;32m      9\u001b[0m \u001b[0;34m\u001b[0m\u001b[0m\n\u001b[1;32m     10\u001b[0m \u001b[0mstart_time\u001b[0m \u001b[0;34m=\u001b[0m \u001b[0mtime\u001b[0m\u001b[0;34m.\u001b[0m\u001b[0mtime\u001b[0m\u001b[0;34m(\u001b[0m\u001b[0;34m)\u001b[0m\u001b[0;34m\u001b[0m\u001b[0;34m\u001b[0m\u001b[0m\n\u001b[0;32m---> 11\u001b[0;31m \u001b[0mresult\u001b[0m\u001b[0;34m=\u001b[0m\u001b[0mGRASP\u001b[0m\u001b[0;34m(\u001b[0m\u001b[0malpha\u001b[0m\u001b[0;34m,\u001b[0m \u001b[0mtime_limit\u001b[0m\u001b[0;34m,\u001b[0m \u001b[0mL\u001b[0m\u001b[0;34m,\u001b[0m \u001b[0mm\u001b[0m\u001b[0;34m)\u001b[0m\u001b[0;34m\u001b[0m\u001b[0;34m\u001b[0m\u001b[0m\n\u001b[0m\u001b[1;32m     12\u001b[0m \u001b[0melapsed_time\u001b[0m \u001b[0;34m=\u001b[0m \u001b[0mtime\u001b[0m\u001b[0;34m.\u001b[0m\u001b[0mtime\u001b[0m\u001b[0;34m(\u001b[0m\u001b[0;34m)\u001b[0m \u001b[0;34m-\u001b[0m \u001b[0mstart_time\u001b[0m\u001b[0;34m\u001b[0m\u001b[0;34m\u001b[0m\u001b[0m\n\u001b[1;32m     13\u001b[0m \u001b[0mprint\u001b[0m\u001b[0;34m(\u001b[0m\u001b[0;34m'----- RESULTAT-----'\u001b[0m\u001b[0;34m)\u001b[0m\u001b[0;34m\u001b[0m\u001b[0;34m\u001b[0m\u001b[0m\n",
      "\u001b[0;32m<ipython-input-10-c033baae4d3c>\u001b[0m in \u001b[0;36mGRASP\u001b[0;34m(alpha, time_limit, LIST_JOBS, NB_MACHINE)\u001b[0m\n\u001b[1;32m     16\u001b[0m     \u001b[0;32mwhile\u001b[0m \u001b[0mCPU_time\u001b[0m \u001b[0;34m<\u001b[0m \u001b[0mtime_limit\u001b[0m \u001b[0;34m:\u001b[0m\u001b[0;34m\u001b[0m\u001b[0;34m\u001b[0m\u001b[0m\n\u001b[1;32m     17\u001b[0m         \u001b[0mX_greedy\u001b[0m \u001b[0;34m=\u001b[0m \u001b[0mrandomized_greedy\u001b[0m\u001b[0;34m(\u001b[0m\u001b[0mLIST_JOBS\u001b[0m \u001b[0;34m,\u001b[0m \u001b[0mNB_MACHINE\u001b[0m\u001b[0;34m)\u001b[0m\u001b[0;34m\u001b[0m\u001b[0;34m\u001b[0m\u001b[0m\n\u001b[0;32m---> 18\u001b[0;31m         \u001b[0mX\u001b[0m \u001b[0;34m=\u001b[0m \u001b[0mlocal_search_tabu\u001b[0m\u001b[0;34m(\u001b[0m\u001b[0mX_greedy\u001b[0m\u001b[0;34m,\u001b[0m\u001b[0mLIST_JOBS\u001b[0m\u001b[0;34m,\u001b[0m \u001b[0mNB_MACHINE\u001b[0m\u001b[0;34m)\u001b[0m          \u001b[0;31m# type(X) = Ordonnancement\u001b[0m\u001b[0;34m\u001b[0m\u001b[0;34m\u001b[0m\u001b[0m\n\u001b[0m\u001b[1;32m     19\u001b[0m         \u001b[0;32mif\u001b[0m \u001b[0mX\u001b[0m\u001b[0;34m.\u001b[0m\u001b[0mduree\u001b[0m \u001b[0;34m<\u001b[0m \u001b[0mX_best\u001b[0m\u001b[0;34m.\u001b[0m\u001b[0mduree\u001b[0m\u001b[0;34m:\u001b[0m\u001b[0;34m\u001b[0m\u001b[0;34m\u001b[0m\u001b[0m\n\u001b[1;32m     20\u001b[0m             \u001b[0mX_best\u001b[0m \u001b[0;34m=\u001b[0m \u001b[0mX\u001b[0m\u001b[0;34m\u001b[0m\u001b[0;34m\u001b[0m\u001b[0m\n",
      "\u001b[0;32m<ipython-input-8-a3fd115c0de8>\u001b[0m in \u001b[0;36mlocal_search_tabu\u001b[0;34m(X_greedy, LIST_JOBS, NB_MACHINE)\u001b[0m\n\u001b[1;32m     31\u001b[0m     \u001b[0mi\u001b[0m\u001b[0;34m=\u001b[0m\u001b[0;36m0\u001b[0m\u001b[0;34m\u001b[0m\u001b[0;34m\u001b[0m\u001b[0m\n\u001b[1;32m     32\u001b[0m     \u001b[0;32mwhile\u001b[0m \u001b[0mi\u001b[0m \u001b[0;34m<\u001b[0m \u001b[0mIteration\u001b[0m \u001b[0;34m:\u001b[0m\u001b[0;34m\u001b[0m\u001b[0;34m\u001b[0m\u001b[0m\n\u001b[0;32m---> 33\u001b[0;31m         \u001b[0mSc\u001b[0m\u001b[0;34m=\u001b[0m\u001b[0mmeilleur_voisin\u001b[0m\u001b[0;34m(\u001b[0m\u001b[0mSc\u001b[0m\u001b[0;34m,\u001b[0m \u001b[0mLast_visited\u001b[0m\u001b[0;34m)\u001b[0m\u001b[0;34m\u001b[0m\u001b[0;34m\u001b[0m\u001b[0m\n\u001b[0m\u001b[1;32m     34\u001b[0m         \u001b[0;32mif\u001b[0m \u001b[0mSc\u001b[0m\u001b[0;34m.\u001b[0m\u001b[0mduree\u001b[0m\u001b[0;34m<\u001b[0m\u001b[0mS_best\u001b[0m\u001b[0;34m.\u001b[0m\u001b[0mduree\u001b[0m\u001b[0;34m:\u001b[0m\u001b[0;34m\u001b[0m\u001b[0;34m\u001b[0m\u001b[0m\n\u001b[1;32m     35\u001b[0m             \u001b[0mS_best\u001b[0m\u001b[0;34m=\u001b[0m\u001b[0mSc\u001b[0m\u001b[0;34m\u001b[0m\u001b[0;34m\u001b[0m\u001b[0m\n",
      "\u001b[0;32m<ipython-input-8-a3fd115c0de8>\u001b[0m in \u001b[0;36mmeilleur_voisin\u001b[0;34m(ordo, Last_visited)\u001b[0m\n\u001b[1;32m     12\u001b[0m             \u001b[0msequence\u001b[0m\u001b[0;34m[\u001b[0m\u001b[0mi\u001b[0m\u001b[0;34m]\u001b[0m\u001b[0;34m=\u001b[0m\u001b[0my1\u001b[0m\u001b[0;34m\u001b[0m\u001b[0;34m\u001b[0m\u001b[0m\n\u001b[1;32m     13\u001b[0m             \u001b[0mordo2\u001b[0m \u001b[0;34m=\u001b[0m \u001b[0mordonnancement\u001b[0m\u001b[0;34m.\u001b[0m\u001b[0mOrdonnancement\u001b[0m\u001b[0;34m(\u001b[0m\u001b[0mordo\u001b[0m\u001b[0;34m.\u001b[0m\u001b[0mnombre_machines\u001b[0m\u001b[0;34m)\u001b[0m\u001b[0;34m\u001b[0m\u001b[0;34m\u001b[0m\u001b[0m\n\u001b[0;32m---> 14\u001b[0;31m             \u001b[0mordo2\u001b[0m\u001b[0;34m.\u001b[0m\u001b[0mordonnancer_liste_job\u001b[0m\u001b[0;34m(\u001b[0m\u001b[0msequence\u001b[0m\u001b[0;34m)\u001b[0m\u001b[0;34m\u001b[0m\u001b[0;34m\u001b[0m\u001b[0m\n\u001b[0m\u001b[1;32m     15\u001b[0m             \u001b[0;32mif\u001b[0m \u001b[0mbest_ordo\u001b[0m\u001b[0;34m==\u001b[0m\u001b[0mordo\u001b[0m \u001b[0;32mand\u001b[0m \u001b[0;34m(\u001b[0m\u001b[0mordo2\u001b[0m\u001b[0;34m.\u001b[0m\u001b[0msequence\u001b[0m \u001b[0;32mnot\u001b[0m \u001b[0;32min\u001b[0m \u001b[0mLast_visited\u001b[0m\u001b[0;34m)\u001b[0m\u001b[0;34m:\u001b[0m\u001b[0;34m\u001b[0m\u001b[0;34m\u001b[0m\u001b[0m\n\u001b[1;32m     16\u001b[0m                 \u001b[0mbest_ordo\u001b[0m\u001b[0;34m=\u001b[0m\u001b[0mordo2\u001b[0m\u001b[0;34m\u001b[0m\u001b[0;34m\u001b[0m\u001b[0m\n",
      "\u001b[0;32m~/Desktop/Cours/2A/programmation_dynamique/projet/ordonnancement.py\u001b[0m in \u001b[0;36mordonnancer_liste_job\u001b[0;34m(self, liste_jobs)\u001b[0m\n\u001b[1;32m     80\u001b[0m     \u001b[0;32mdef\u001b[0m \u001b[0mordonnancer_liste_job\u001b[0m\u001b[0;34m(\u001b[0m\u001b[0mself\u001b[0m\u001b[0;34m,\u001b[0m \u001b[0mliste_jobs\u001b[0m\u001b[0;34m)\u001b[0m\u001b[0;34m:\u001b[0m\u001b[0;34m\u001b[0m\u001b[0;34m\u001b[0m\u001b[0m\n\u001b[1;32m     81\u001b[0m         \u001b[0;32mfor\u001b[0m \u001b[0mj\u001b[0m \u001b[0;32min\u001b[0m \u001b[0mliste_jobs\u001b[0m \u001b[0;34m:\u001b[0m\u001b[0;34m\u001b[0m\u001b[0;34m\u001b[0m\u001b[0m\n\u001b[0;32m---> 82\u001b[0;31m             \u001b[0mself\u001b[0m\u001b[0;34m.\u001b[0m\u001b[0mordonnancer_job\u001b[0m\u001b[0;34m(\u001b[0m\u001b[0mj\u001b[0m\u001b[0;34m)\u001b[0m\u001b[0;34m\u001b[0m\u001b[0;34m\u001b[0m\u001b[0m\n\u001b[0m\u001b[1;32m     83\u001b[0m         \u001b[0mself\u001b[0m\u001b[0;34m.\u001b[0m\u001b[0mduree\u001b[0m \u001b[0;34m=\u001b[0m \u001b[0mliste_jobs\u001b[0m\u001b[0;34m[\u001b[0m\u001b[0;34m-\u001b[0m\u001b[0;36m1\u001b[0m\u001b[0;34m]\u001b[0m\u001b[0;34m.\u001b[0m\u001b[0mdate_debut\u001b[0m\u001b[0;34m[\u001b[0m\u001b[0;34m-\u001b[0m\u001b[0;36m1\u001b[0m\u001b[0;34m]\u001b[0m \u001b[0;34m+\u001b[0m \u001b[0mliste_jobs\u001b[0m\u001b[0;34m[\u001b[0m\u001b[0;34m-\u001b[0m\u001b[0;36m1\u001b[0m\u001b[0;34m]\u001b[0m\u001b[0;34m.\u001b[0m\u001b[0mduree_operation\u001b[0m\u001b[0;34m[\u001b[0m\u001b[0;34m-\u001b[0m\u001b[0;36m1\u001b[0m\u001b[0;34m]\u001b[0m\u001b[0;34m\u001b[0m\u001b[0;34m\u001b[0m\u001b[0m\n\u001b[1;32m     84\u001b[0m \u001b[0;34m\u001b[0m\u001b[0m\n",
      "\u001b[0;32m~/Desktop/Cours/2A/programmation_dynamique/projet/ordonnancement.py\u001b[0m in \u001b[0;36mordonnancer_job\u001b[0;34m(self, job)\u001b[0m\n\u001b[1;32m     69\u001b[0m             \u001b[0;32mfor\u001b[0m \u001b[0mm\u001b[0m \u001b[0;32min\u001b[0m \u001b[0mrange\u001b[0m \u001b[0;34m(\u001b[0m\u001b[0;36m1\u001b[0m\u001b[0;34m,\u001b[0m\u001b[0mself\u001b[0m\u001b[0;34m.\u001b[0m\u001b[0mnombre_machines\u001b[0m\u001b[0;34m)\u001b[0m\u001b[0;34m:\u001b[0m\u001b[0;34m\u001b[0m\u001b[0;34m\u001b[0m\u001b[0m\n\u001b[1;32m     70\u001b[0m                 job.date_debut[m] = max(self.sequence[-2].date_debut[m] + self.sequence[-2].duree_operation[m],\n\u001b[0;32m---> 71\u001b[0;31m                               job.date_debut[m-1] + job.duree_operation[m-1])\n\u001b[0m\u001b[1;32m     72\u001b[0m \u001b[0;34m\u001b[0m\u001b[0m\n\u001b[1;32m     73\u001b[0m         \u001b[0;31m#job.duree = job.date_debut[-1] + job.duree_operation[-1]\u001b[0m\u001b[0;34m\u001b[0m\u001b[0;34m\u001b[0m\u001b[0;34m\u001b[0m\u001b[0m\n",
      "\u001b[0;31mKeyboardInterrupt\u001b[0m: "
     ]
    }
   ],
   "source": [
    "print(\"tai52 :\")\n",
    "prob = flowshop.Flowshop()\n",
    "prob.definir_par_fichier('/Users/corentin/Desktop/Cours/2A/programmation_dynamique/projet/data/jeu_de_données_2/tai52.txt')\n",
    "L = prob.liste_jobs\n",
    "m = prob.nombre_machines\n",
    "\n",
    "# Parameters\n",
    "time_limit = 300\n",
    "\n",
    "start_time = time.time()\n",
    "result=GRASP(alpha, time_limit, L, m)\n",
    "elapsed_time = time.time() - start_time\n",
    "print('----- RESULTAT-----')\n",
    "print('Temps de résolution : {}s'.format(round(elapsed_time,3)))\n",
    "print(\"durée :\", result.duree)\n",
    "print([ job.numero for job in result.sequence])"
   ]
  },
  {
   "cell_type": "code",
   "execution_count": 19,
   "metadata": {},
   "outputs": [
    {
     "name": "stdout",
     "output_type": "stream",
     "text": [
      "tai51 :\n",
      "Initial solution : [0, 1, 2, 3, 4, 5, 6, 7, 8, 9, 10, 11, 12, 13, 14, 15, 16, 17, 18, 19, 20, 21, 22, 23, 24, 25, 26, 27, 28, 29, 30, 31, 32, 33, 34, 35, 36, 37, 38, 39, 40, 41, 42, 43, 44, 45, 46, 47, 48, 49] | Durée : 5094\n",
      "New solution found : [34, 16, 14, 26, 36, 42, 44, 5, 19, 37, 0, 30, 6, 39, 29, 45, 15, 33, 48, 7, 20, 10, 28, 41, 32, 38, 27, 46, 35, 21, 4, 13, 43, 47, 11, 9, 18, 3, 23, 17, 31, 8, 25, 1, 22, 12, 40, 24, 49, 2] | Durée : 4023\n",
      "New solution found : [34, 14, 30, 37, 19, 44, 10, 11, 4, 21, 13, 41, 36, 16, 43, 38, 32, 42, 5, 31, 35, 0, 20, 46, 29, 7, 28, 1, 26, 45, 39, 3, 33, 6, 22, 47, 17, 9, 18, 23, 48, 12, 25, 15, 49, 2, 8, 40, 27, 24] | Durée : 4021\n",
      "----- RESULTAT-----\n",
      "Temps de résolution : 301.294s\n",
      "durée : 4021\n",
      "[34, 14, 30, 37, 19, 44, 10, 11, 4, 21, 13, 41, 36, 16, 43, 38, 32, 42, 5, 31, 35, 0, 20, 46, 29, 7, 28, 1, 26, 45, 39, 3, 33, 6, 22, 47, 17, 9, 18, 23, 48, 12, 25, 15, 49, 2, 8, 40, 27, 24]\n"
     ]
    }
   ],
   "source": [
    "print(\"tai51 :\")\n",
    "prob = flowshop.Flowshop()\n",
    "prob.definir_par_fichier('/Users/corentin/Desktop/Cours/2A/programmation_dynamique/projet/data/jeu_de_données_1/tai51.txt')\n",
    "L = prob.liste_jobs\n",
    "m = prob.nombre_machines\n",
    "\n",
    "# Parameters\n",
    "time_limit = 300\n",
    "\n",
    "start_time = time.time()\n",
    "result=GRASP(alpha, time_limit, L, m)\n",
    "elapsed_time = time.time() - start_time\n",
    "print('----- RESULTAT-----')\n",
    "print('Temps de résolution : {}s'.format(round(elapsed_time,3)))\n",
    "print(\"durée :\", result.duree)\n",
    "print([ job.numero for job in result.sequence])"
   ]
  },
  {
   "cell_type": "code",
   "execution_count": null,
   "metadata": {},
   "outputs": [],
   "source": []
  }
 ],
 "metadata": {
  "kernelspec": {
   "display_name": "Python 3",
   "language": "python",
   "name": "python3"
  },
  "language_info": {
   "codemirror_mode": {
    "name": "ipython",
    "version": 3
   },
   "file_extension": ".py",
   "mimetype": "text/x-python",
   "name": "python",
   "nbconvert_exporter": "python",
   "pygments_lexer": "ipython3",
   "version": "3.7.4"
  }
 },
 "nbformat": 4,
 "nbformat_minor": 2
}
