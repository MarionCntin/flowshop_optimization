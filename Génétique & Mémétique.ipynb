{
 "cells": [
  {
   "cell_type": "markdown",
   "metadata": {},
   "source": [
    "# Algorithmes Génétique et Mémétique\n",
    "-----------------------------------------------------------"
   ]
  },
  {
   "cell_type": "markdown",
   "metadata": {},
   "source": [
    "# I. Importations et fonctions communes"
   ]
  },
  {
   "cell_type": "markdown",
   "metadata": {},
   "source": [
    "## I.1 Importations communes"
   ]
  },
  {
   "cell_type": "code",
   "execution_count": 1,
   "metadata": {},
   "outputs": [],
   "source": [
    "import job\n",
    "import ordonnancement\n",
    "import sommet\n",
    "import flowshop\n",
    "import random"
   ]
  },
  {
   "cell_type": "code",
   "execution_count": 15,
   "metadata": {},
   "outputs": [],
   "source": [
    "N = 70              #Taille de la population\n",
    "Iteration=15       #Nombre d'itérations maximum pour les algos\n",
    "iter_max_RL = 50 # Nombre d'itérations maximum pour la recherche locale "
   ]
  },
  {
   "cell_type": "markdown",
   "metadata": {},
   "source": [
    "## I.2 Fonctions communes"
   ]
  },
  {
   "cell_type": "markdown",
   "metadata": {},
   "source": [
    "### I.2.a Initialisation de la population"
   ]
  },
  {
   "cell_type": "code",
   "execution_count": 3,
   "metadata": {},
   "outputs": [],
   "source": [
    "#Pour générer N ordonnancements\n",
    "def get_random_population(L, nb_machines) : \n",
    "    Pop=[]\n",
    "    for i in range(N) :\n",
    "        ordo = ordonnancement.Ordonnancement(nb_machines)\n",
    "        random.shuffle(L)\n",
    "        ordo.ordonnancer_liste_job(L)\n",
    "        Pop+=[ordo]\n",
    "    return Pop"
   ]
  },
  {
   "cell_type": "markdown",
   "metadata": {},
   "source": [
    "### I.2.b Score moyen de la population"
   ]
  },
  {
   "cell_type": "code",
   "execution_count": 4,
   "metadata": {},
   "outputs": [],
   "source": [
    "#Pour calculer la moyenne des solutions\n",
    "def average_population_grade(Pop):\n",
    "    somme=0\n",
    "    for indiv in Pop:\n",
    "        somme+=indiv.duree\n",
    "    return somme/len(Pop)"
   ]
  },
  {
   "cell_type": "markdown",
   "metadata": {},
   "source": [
    "### I.2.c Sélection des parents (méthode de sélection proportionnelle)"
   ]
  },
  {
   "cell_type": "code",
   "execution_count": 5,
   "metadata": {},
   "outputs": [],
   "source": [
    "def select_parents(population):\n",
    "    moyenne=average_population_grade(population)\n",
    "    proba_cumulee=0\n",
    "    liste_proba_cumulee=[]\n",
    "    for ordo in population:\n",
    "        proba_cumulee+=(2-ordo.duree/moyenne)/len(population)*100\n",
    "        liste_proba_cumulee.append(proba_cumulee)     #Liste des probabilité cumulées de choisir le n'ieme ordonnancement avec une proba de f/f_moyen\n",
    "    Parents=[]\n",
    "    for k in range(N):\n",
    "        proba=random.random()*100\n",
    "        for k in range(len(population)):       #On parcourt la liste de proba_cumulee jusqu'à ce que la proba aléatoire corresponde à un individu\n",
    "            if proba<liste_proba_cumulee[k]:\n",
    "                Parents.append(population[k])\n",
    "                break\n",
    "            if proba>=liste_proba_cumulee[len(population)-1]:\n",
    "                print(proba)\n",
    "                Parents.append(population[len(population)-1])\n",
    "                break\n",
    "    return Parents"
   ]
  },
  {
   "cell_type": "markdown",
   "metadata": {},
   "source": [
    "### I.2.d Création des couples à partir d'un ensemble de parents"
   ]
  },
  {
   "cell_type": "code",
   "execution_count": 6,
   "metadata": {},
   "outputs": [],
   "source": [
    "def creation_couples(parents):\n",
    "    couples=[]\n",
    "    if len(parents)%2 == 1:\n",
    "        print(\"il doit y avoir un nombre pair de parents\")\n",
    "    else:\n",
    "        for k in range(len(parents)//2):\n",
    "            couples.append([parents[2*k], parents[2*k+1]])\n",
    "    return couples"
   ]
  },
  {
   "cell_type": "markdown",
   "metadata": {},
   "source": [
    "### I.2.e Croisement des deux parents pour donner deux enfants"
   ]
  },
  {
   "cell_type": "code",
   "execution_count": 7,
   "metadata": {},
   "outputs": [],
   "source": [
    "def croisement(couple):\n",
    "    pere=couple[0]\n",
    "    mere=couple[1]\n",
    "    cassure=len(pere.sequence)//2\n",
    "    fils=pere.sequence[:cassure]\n",
    "    fille=mere.sequence[:cassure]\n",
    "    for k in range(len(pere.sequence)):\n",
    "        if mere.sequence[k] not in fils:\n",
    "            fils.append(mere.sequence[k])\n",
    "        if pere.sequence[k] not in fille:\n",
    "            fille.append(pere.sequence[k])\n",
    "    enfant1=ordonnancement.Ordonnancement(pere.nombre_machines)\n",
    "    enfant1.ordonnancer_liste_job(fils)\n",
    "    enfant2=ordonnancement.Ordonnancement(pere.nombre_machines)\n",
    "    enfant2.ordonnancer_liste_job(fille)\n",
    "    return enfant1, enfant2"
   ]
  },
  {
   "cell_type": "markdown",
   "metadata": {},
   "source": [
    "### I.2.f Sélection du meilleur individu"
   ]
  },
  {
   "cell_type": "code",
   "execution_count": 8,
   "metadata": {},
   "outputs": [],
   "source": [
    "def meilleur_individu(population):\n",
    "    pop_triee= sorted(population, key=lambda ordonnancement: ordonnancement.duree)\n",
    "    return pop_triee[0]"
   ]
  },
  {
   "cell_type": "markdown",
   "metadata": {},
   "source": [
    "# II. Algorithme génétique"
   ]
  },
  {
   "cell_type": "markdown",
   "metadata": {},
   "source": [
    "## II.1 Implémentation"
   ]
  },
  {
   "cell_type": "code",
   "execution_count": 9,
   "metadata": {},
   "outputs": [],
   "source": [
    "def genetique(L, nb_machine):\n",
    "    #Creation d'un ensemble d'individu\n",
    "    population = get_random_population(L,nb_machine)                        #population est une liste d'ordonnancements aléatoires\n",
    "    average_grade = average_population_grade(population)\n",
    "    print('Starting grade: ', average_grade)\n",
    "    i=0\n",
    "    while i < Iteration :\n",
    "        #Affichage de la moyenne\n",
    "        average_grade = average_population_grade(population)\n",
    "        print(i, 'Current grade: ', average_grade)\n",
    "        \n",
    "        #Choix de N parents / Un individu peut être parent plusieurs fois\n",
    "        Parents=select_parents(population)\n",
    "        \n",
    "        #Creation de N/2 couples de parents\n",
    "        Couples=creation_couples(Parents)\n",
    "    \n",
    "        #Croisement\n",
    "        nouvelle_generation=[]\n",
    "        for couple in Couples:\n",
    "            enfant1, enfant2=croisement(couple)\n",
    "            nouvelle_generation.append(enfant1)\n",
    "            nouvelle_generation.append(enfant2)\n",
    "        \n",
    "        population = nouvelle_generation\n",
    "        i+=1\n",
    "    return meilleur_individu(population)"
   ]
  },
  {
   "cell_type": "markdown",
   "metadata": {},
   "source": [
    "## II.2 Tests"
   ]
  },
  {
   "cell_type": "code",
   "execution_count": 24,
   "metadata": {},
   "outputs": [
    {
     "name": "stdout",
     "output_type": "stream",
     "text": [
      "JEU 1 :\n",
      "Starting grade:  58.08\n",
      "0 Current grade:  58.08\n",
      "1 Current grade:  58.25\n",
      "2 Current grade:  58.41\n",
      "3 Current grade:  58.08\n",
      "4 Current grade:  58.15\n",
      "5 Current grade:  57.7\n",
      "6 Current grade:  57.39\n",
      "7 Current grade:  57.58\n",
      "8 Current grade:  57.27\n",
      "9 Current grade:  58.05\n",
      "Meilleur individu : 54\n"
     ]
    }
   ],
   "source": [
    "print(\"JEU 1 :\")\n",
    "prob = flowshop.Flowshop()\n",
    "prob.definir_par_fichier('data/jeu1.txt')\n",
    "print('Meilleur individu :',genetique(prob.liste_jobs, prob.nombre_machines).duree)"
   ]
  },
  {
   "cell_type": "code",
   "execution_count": 25,
   "metadata": {},
   "outputs": [
    {
     "name": "stdout",
     "output_type": "stream",
     "text": [
      "JEU 2 :\n",
      "Starting grade:  794.17\n",
      "0 Current grade:  794.17\n",
      "1 Current grade:  799.06\n",
      "2 Current grade:  800.1\n",
      "3 Current grade:  800.85\n",
      "4 Current grade:  797.56\n",
      "5 Current grade:  798.21\n",
      "6 Current grade:  796.74\n",
      "7 Current grade:  799.54\n",
      "8 Current grade:  796.16\n",
      "9 Current grade:  794.84\n",
      "Meilleur individu : 730\n"
     ]
    }
   ],
   "source": [
    "print(\"JEU 2 :\")\n",
    "prob = flowshop.Flowshop()\n",
    "prob.definir_par_fichier('data/jeu2.txt')\n",
    "print('Meilleur individu :',genetique(prob.liste_jobs, prob.nombre_machines).duree)"
   ]
  },
  {
   "cell_type": "code",
   "execution_count": 26,
   "metadata": {},
   "outputs": [
    {
     "name": "stdout",
     "output_type": "stream",
     "text": [
      "Tai01 :\n",
      "Starting grade:  1514.33\n",
      "0 Current grade:  1514.33\n",
      "1 Current grade:  1507.21\n",
      "2 Current grade:  1506.8\n",
      "3 Current grade:  1501.28\n",
      "4 Current grade:  1498.83\n",
      "5 Current grade:  1507.0\n",
      "6 Current grade:  1489.38\n",
      "7 Current grade:  1492.48\n",
      "8 Current grade:  1484.68\n",
      "9 Current grade:  1489.64\n",
      "Meilleur individu : 1324\n"
     ]
    }
   ],
   "source": [
    "print(\"Tai01 :\")\n",
    "prob = flowshop.Flowshop()\n",
    "prob.definir_par_fichier('data/jeu_de_données_1/tai01.txt')\n",
    "print('Meilleur individu :',genetique(prob.liste_jobs, prob.nombre_machines).duree)\n"
   ]
  },
  {
   "cell_type": "markdown",
   "metadata": {},
   "source": [
    "# III. Algorithme mémétique"
   ]
  },
  {
   "cell_type": "markdown",
   "metadata": {},
   "source": [
    "## III.1 Fonctions supplémentaires"
   ]
  },
  {
   "cell_type": "markdown",
   "metadata": {},
   "source": [
    "### III.1.a Recherche locale en échangeant deux jobs aléatoirement"
   ]
  },
  {
   "cell_type": "code",
   "execution_count": 10,
   "metadata": {},
   "outputs": [],
   "source": [
    "def RL(individu):\n",
    "    i=0\n",
    "    while i<iter_max_RL:\n",
    "        sequence=individu.sequence\n",
    "        x1=random.randint(0,len(sequence)-1)\n",
    "        x2=random.randint(0,len(sequence)-1)\n",
    "        while x2==1:\n",
    "            x2=random.randint(0,len(sequence)-1)\n",
    "        y1=sequence[x1]\n",
    "        y2=sequence[x2]\n",
    "        sequence[x1]=y2\n",
    "        sequence[x2]=y1\n",
    "        new=ordonnancement.Ordonnancement(individu.nombre_machines)\n",
    "        new.ordonnancer_liste_job(sequence)\n",
    "        if new.duree<individu.duree:\n",
    "            individu=new\n",
    "        i+=1\n",
    "    return individu"
   ]
  },
  {
   "cell_type": "markdown",
   "metadata": {},
   "source": [
    "### III.1.c Remplacement"
   ]
  },
  {
   "cell_type": "code",
   "execution_count": 11,
   "metadata": {},
   "outputs": [],
   "source": [
    "def remplacement(population, new_generation):\n",
    "    pop=population+new_generation\n",
    "    pop_triee= sorted(pop, key=lambda ordonnancement: ordonnancement.duree)\n",
    "    return pop_triee[:len(population)]"
   ]
  },
  {
   "cell_type": "markdown",
   "metadata": {},
   "source": [
    "## III.2 Implémentation"
   ]
  },
  {
   "cell_type": "code",
   "execution_count": 12,
   "metadata": {},
   "outputs": [],
   "source": [
    "import time\n",
    "\n",
    "def memetique(L, nb_machine):\n",
    "    # Time\n",
    "    start_time = time.time()    \n",
    "    #Creation d'un ensemble d'individu\n",
    "    population = get_random_population(L,nb_machine)                        #population est une liste d'ordonnancements aléatoires\n",
    "    average_grade = average_population_grade(population)\n",
    "    print('Starting grade: ', average_grade)\n",
    "    print('-------------------------------')\n",
    "    i=0\n",
    "    while i < Iteration :\n",
    "        #Affichage de la moyenne\n",
    "        average_grade = average_population_grade(population)\n",
    "        print(i, 'Current grade: ', average_grade)\n",
    "        \n",
    "        #Choix de N parents / Un individu peut être parent plusieurs fois\n",
    "        Parents=select_parents(population)\n",
    "        \n",
    "        #Creation de N/2 couples de parents\n",
    "        Couples=creation_couples(Parents)\n",
    "    \n",
    "        #Croisement\n",
    "        nouvelle_generation=[]\n",
    "        for couple in Couples:\n",
    "            enfant1, enfant2=croisement(couple)\n",
    "            enfant1=RL(enfant1)\n",
    "            enfant2=RL(enfant2)\n",
    "            nouvelle_generation.append(enfant1)\n",
    "            nouvelle_generation.append(enfant2)\n",
    "        \n",
    "        population = remplacement(population,nouvelle_generation)\n",
    "        i+=1\n",
    "    elapsed_time = time.time() - start_time\n",
    "    print('----------- TIME : {}s ----------- '.format(round(elapsed_time,3)))\n",
    "    return meilleur_individu(population)"
   ]
  },
  {
   "cell_type": "markdown",
   "metadata": {},
   "source": [
    "## III.3 Tests"
   ]
  },
  {
   "cell_type": "code",
   "execution_count": 13,
   "metadata": {},
   "outputs": [
    {
     "name": "stdout",
     "output_type": "stream",
     "text": [
      "JEU 1 :\n",
      "Starting grade:  58.32\n",
      "-------------------------------\n",
      "0 Current grade:  58.32\n",
      "1 Current grade:  54.0\n",
      "2 Current grade:  54.0\n",
      "3 Current grade:  54.0\n",
      "4 Current grade:  54.0\n",
      "5 Current grade:  54.0\n",
      "6 Current grade:  54.0\n",
      "7 Current grade:  54.0\n",
      "8 Current grade:  54.0\n",
      "9 Current grade:  54.0\n",
      "10 Current grade:  54.0\n",
      "11 Current grade:  54.0\n",
      "12 Current grade:  54.0\n",
      "13 Current grade:  54.0\n",
      "14 Current grade:  54.0\n",
      "----------- TIME : 4.136s ----------- \n",
      "Meilleur individu : 54\n"
     ]
    }
   ],
   "source": [
    "print(\"JEU 1 :\")\n",
    "prob = flowshop.Flowshop()\n",
    "prob.definir_par_fichier('data/jeu1.txt')\n",
    "print('Meilleur individu :',memetique(prob.liste_jobs, prob.nombre_machines).duree)"
   ]
  },
  {
   "cell_type": "code",
   "execution_count": 44,
   "metadata": {},
   "outputs": [
    {
     "name": "stdout",
     "output_type": "stream",
     "text": [
      "JEU 2 :\n",
      "Starting grade:  797.11\n",
      "-------------------------------\n",
      "0 Current grade:  797.11\n",
      "1 Current grade:  725.57\n",
      "2 Current grade:  717.87\n",
      "3 Current grade:  714.94\n",
      "4 Current grade:  713.11\n",
      "5 Current grade:  711.98\n",
      "6 Current grade:  710.95\n",
      "7 Current grade:  710.24\n",
      "8 Current grade:  709.87\n",
      "9 Current grade:  709.27\n",
      "----------- TIME : 2.954s ----------- \n",
      "Meilleur individu : 704\n"
     ]
    }
   ],
   "source": [
    "print(\"JEU 2 :\")\n",
    "prob = flowshop.Flowshop()\n",
    "prob.definir_par_fichier('data/jeu2.txt')\n",
    "print('Meilleur individu :',memetique(prob.liste_jobs, prob.nombre_machines).duree)"
   ]
  },
  {
   "cell_type": "code",
   "execution_count": 14,
   "metadata": {},
   "outputs": [
    {
     "name": "stdout",
     "output_type": "stream",
     "text": [
      "tai11 :\n",
      "Starting grade:  2032.21\n",
      "-------------------------------\n",
      "0 Current grade:  2032.21\n",
      "1 Current grade:  1863.65\n",
      "2 Current grade:  1839.78\n",
      "3 Current grade:  1827.01\n",
      "4 Current grade:  1821.8\n",
      "5 Current grade:  1812.73\n",
      "6 Current grade:  1807.89\n",
      "7 Current grade:  1805.04\n",
      "8 Current grade:  1803.44\n",
      "9 Current grade:  1798.89\n",
      "----------- TIME : 22.102s ----------- \n",
      "----- RESULTAT-----\n",
      "Temps de résolution : 22.103s\n",
      "durée : 1717\n",
      "[11, 7, 5, 6, 19, 15, 10, 8, 16, 14, 12, 2, 4, 0, 9, 1, 3, 17, 13, 18]\n"
     ]
    }
   ],
   "source": [
    "print(\"tai11 :\")\n",
    "prob = flowshop.Flowshop()\n",
    "prob.definir_par_fichier('/Users/corentin/Desktop/Cours/2A/programmation_dynamique/projet/data/jeu_de_données_1/tai11.txt')\n",
    "L = prob.liste_jobs\n",
    "m = prob.nombre_machines\n",
    "\n",
    "\n",
    "start_time = time.time()\n",
    "result=memetique(prob.liste_jobs, prob.nombre_machines)\n",
    "elapsed_time = time.time() - start_time\n",
    "print('----- RESULTAT-----')\n",
    "print('Temps de résolution : {}s'.format(round(elapsed_time,3)))\n",
    "print(\"durée :\", result.duree)\n",
    "print([ job.numero for job in result.sequence])"
   ]
  },
  {
   "cell_type": "code",
   "execution_count": 18,
   "metadata": {},
   "outputs": [
    {
     "name": "stdout",
     "output_type": "stream",
     "text": [
      "tai51 :\n",
      "Starting grade:  4863.15\n",
      "-------------------------------\n",
      "0 Current grade:  4863.15\n",
      "1 Current grade:  4640.45\n",
      "2 Current grade:  4603.25\n",
      "3 Current grade:  4585.51\n",
      "4 Current grade:  4570.97\n",
      "5 Current grade:  4563.51\n",
      "6 Current grade:  4558.84\n",
      "7 Current grade:  4551.07\n",
      "8 Current grade:  4547.4\n",
      "9 Current grade:  4544.86\n",
      "10 Current grade:  4541.01\n",
      "11 Current grade:  4538.39\n",
      "12 Current grade:  4536.91\n",
      "13 Current grade:  4534.77\n",
      "14 Current grade:  4533.36\n",
      "----------- TIME : 152.433s ----------- \n",
      "----- RESULTAT-----\n",
      "Temps de résolution : 152.433s\n",
      "durée : 4411\n",
      "[24, 42, 35, 32, 20, 6, 1, 10, 5, 45, 47, 43, 16, 19, 22, 44, 41, 14, 15, 0, 48, 13, 27, 40, 38, 36, 30, 28, 17, 34, 23, 33, 31, 4, 3, 39, 18, 26, 2, 25, 46, 29, 21, 7, 11, 9, 49, 8, 12, 37]\n"
     ]
    }
   ],
   "source": [
    "print(\"tai51 :\")\n",
    "prob = flowshop.Flowshop()\n",
    "prob.definir_par_fichier('/Users/corentin/Desktop/Cours/2A/programmation_dynamique/projet/data/jeu_de_données_1/tai51.txt')\n",
    "L = prob.liste_jobs\n",
    "m = prob.nombre_machines\n",
    "# 3874\n",
    "\n",
    "start_time = time.time()\n",
    "result=memetique(prob.liste_jobs, prob.nombre_machines)\n",
    "elapsed_time = time.time() - start_time\n",
    "print('----- RESULTAT-----')\n",
    "print('Temps de résolution : {}s'.format(round(elapsed_time,3)))\n",
    "print(\"durée :\", result.duree)\n",
    "print([ job.numero for job in result.sequence])"
   ]
  },
  {
   "cell_type": "code",
   "execution_count": 16,
   "metadata": {},
   "outputs": [
    {
     "name": "stdout",
     "output_type": "stream",
     "text": [
      "tai52 :\n",
      "Starting grade:  4709.742857142857\n",
      "-------------------------------\n",
      "0 Current grade:  4709.742857142857\n",
      "1 Current grade:  4528.585714285714\n",
      "2 Current grade:  4476.028571428571\n",
      "3 Current grade:  4456.828571428571\n",
      "4 Current grade:  4443.4\n",
      "5 Current grade:  4432.2\n",
      "6 Current grade:  4420.4857142857145\n",
      "7 Current grade:  4412.2\n",
      "8 Current grade:  4405.414285714286\n",
      "9 Current grade:  4398.9857142857145\n",
      "10 Current grade:  4394.5\n",
      "11 Current grade:  4387.9857142857145\n",
      "12 Current grade:  4384.471428571429\n",
      "13 Current grade:  4382.928571428572\n",
      "14 Current grade:  4375.957142857143\n",
      "----------- TIME : 46.421s ----------- \n",
      "----- RESULTAT-----\n",
      "Temps de résolution : 46.421s\n",
      "durée : 4265\n",
      "[36, 37, 5, 23, 44, 16, 43, 30, 28, 22, 35, 6, 49, 0, 33, 24, 21, 2, 40, 12, 34, 41, 46, 38, 39, 7, 45, 29, 17, 1, 42, 10, 27, 20, 8, 32, 26, 31, 3, 9, 11, 13, 25, 14, 19, 4, 48, 15, 18, 47]\n"
     ]
    }
   ],
   "source": [
    "print(\"tai52 :\")\n",
    "prob = flowshop.Flowshop()\n",
    "prob.definir_par_fichier('/Users/corentin/Desktop/Cours/2A/programmation_dynamique/projet/data/jeu_de_données_2/tai52.txt')\n",
    "L = prob.liste_jobs\n",
    "m = prob.nombre_machines\n",
    "# 3874\n",
    "# Doucement mais surement ! \n",
    "\n",
    "start_time = time.time()\n",
    "result=memetique(prob.liste_jobs, prob.nombre_machines)\n",
    "elapsed_time = time.time() - start_time\n",
    "print('----- RESULTAT-----')\n",
    "print('Temps de résolution : {}s'.format(round(elapsed_time,3)))\n",
    "print(\"durée :\", result.duree)\n",
    "print([ job.numero for job in result.sequence])"
   ]
  },
  {
   "cell_type": "code",
   "execution_count": null,
   "metadata": {},
   "outputs": [],
   "source": []
  }
 ],
 "metadata": {
  "kernelspec": {
   "display_name": "Python 3",
   "language": "python",
   "name": "python3"
  },
  "language_info": {
   "codemirror_mode": {
    "name": "ipython",
    "version": 3
   },
   "file_extension": ".py",
   "mimetype": "text/x-python",
   "name": "python",
   "nbconvert_exporter": "python",
   "pygments_lexer": "ipython3",
   "version": "3.7.4"
  }
 },
 "nbformat": 4,
 "nbformat_minor": 4
}
