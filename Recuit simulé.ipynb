{
 "cells": [
  {
   "cell_type": "markdown",
   "metadata": {},
   "source": [
    "# Algorithme Recuit simulé\n",
    "-----------------------------------------------------------"
   ]
  },
  {
   "cell_type": "code",
   "execution_count": 14,
   "metadata": {},
   "outputs": [],
   "source": [
    "import job\n",
    "import ordonnancement\n",
    "import sommet\n",
    "import flowshop\n",
    "import random\n",
    "import copy\n",
    "import math\n",
    "import time"
   ]
  },
  {
   "cell_type": "code",
   "execution_count": 2,
   "metadata": {},
   "outputs": [],
   "source": [
    "Iteration=15"
   ]
  },
  {
   "cell_type": "code",
   "execution_count": 3,
   "metadata": {},
   "outputs": [],
   "source": [
    "def voisin_aleatoire(ordo):                \n",
    "    nb_jobs=len(ordo.sequence)\n",
    "    sequence=copy.copy(ordo.sequence)\n",
    "    k=random.randint(0, len(sequence)-1)\n",
    "    i=random.randint(0, len(sequence)-1)\n",
    "    while i==k:\n",
    "        i=random.randint(0, len(sequence)-1)\n",
    "    y1=sequence[k]\n",
    "    y2=sequence[i]\n",
    "    sequence[k]=y2\n",
    "    sequence[i]=y1\n",
    "    ordo2 = ordonnancement.Ordonnancement(ordo.nombre_machines)\n",
    "    ordo2.ordonnancer_liste_job(sequence)\n",
    "    return ordo2\n",
    "            "
   ]
  },
  {
   "cell_type": "markdown",
   "metadata": {},
   "source": [
    "# Recuit simulé\n",
    "- Last_visited n'est jamais utilisé\n",
    "- On pourrait utiliser une première solution avec ordonnancement NEH\n"
   ]
  },
  {
   "cell_type": "code",
   "execution_count": 17,
   "metadata": {},
   "outputs": [],
   "source": [
    "def recuit_simule(L, nb_machines):\n",
    "    #Création d'une solution de départ\n",
    "    Sc= ordonnancement.Ordonnancement(nb_machines)\n",
    "    Sc.ordonnancer_liste_job(L)\n",
    "    \n",
    "    #S_best constitue la meilleure solution trouvée\n",
    "    S_best=Sc\n",
    "    \n",
    "    T=1\n",
    "    Kb=1.3806*10**(-23)\n",
    "    alpha=0.99\n",
    "    #Initialisation de la liste des dernieres solutions trouvées\n",
    "    Last_visited=[Sc.sequence]\n",
    "    i=0\n",
    "    while i < Iteration :\n",
    "        S=voisin_aleatoire(Sc)\n",
    "        \n",
    "        if S.duree<Sc.duree:\n",
    "            Sc=S\n",
    "        else:\n",
    "            p=random.random()\n",
    "            if p<=math.exp((Sc.duree-S.duree)/(Kb*T)):\n",
    "                Sc=S\n",
    "        \n",
    "        if Sc.duree<S_best.duree:\n",
    "            S_best=Sc\n",
    "        T=alpha*T\n",
    "        i+=1\n",
    "    return S_best"
   ]
  },
  {
   "cell_type": "code",
   "execution_count": 20,
   "metadata": {},
   "outputs": [
    {
     "name": "stdout",
     "output_type": "stream",
     "text": [
      "JEU 2 :\n",
      "----- RESULTAT-----\n",
      "Temps de résolution : 0.002s\n",
      "durée : 759\n",
      "[0, 1, 2, 7, 4, 5, 6, 3]\n"
     ]
    }
   ],
   "source": [
    "print(\"JEU 2 :\")\n",
    "prob = flowshop.Flowshop()\n",
    "prob.definir_par_fichier('data/jeu2.txt')\n",
    "start_time = time.time()\n",
    "result=recuit_simule(prob.liste_jobs, prob.nombre_machines)\n",
    "elapsed_time = time.time() - start_time\n",
    "print('----- RESULTAT-----')\n",
    "print('Temps de résolution : {}s'.format(round(elapsed_time,3)))\n",
    "print(\"durée :\", result.duree)\n",
    "print([ job.numero for job in result.sequence])"
   ]
  },
  {
   "cell_type": "code",
   "execution_count": null,
   "metadata": {},
   "outputs": [],
   "source": []
  },
  {
   "cell_type": "code",
   "execution_count": null,
   "metadata": {},
   "outputs": [],
   "source": []
  }
 ],
 "metadata": {
  "kernelspec": {
   "display_name": "Python 3",
   "language": "python",
   "name": "python3"
  },
  "language_info": {
   "codemirror_mode": {
    "name": "ipython",
    "version": 3
   },
   "file_extension": ".py",
   "mimetype": "text/x-python",
   "name": "python",
   "nbconvert_exporter": "python",
   "pygments_lexer": "ipython3",
   "version": "3.7.4"
  }
 },
 "nbformat": 4,
 "nbformat_minor": 4
}
